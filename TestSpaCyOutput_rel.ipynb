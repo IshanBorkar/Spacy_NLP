{
  "cells": [
    {
      "cell_type": "code",
      "source": [
        "from google.colab import drive\n",
        "drive.mount('/content/drive', force_remount=True)"
      ],
      "metadata": {
        "id": "5hftuh_f0mK3",
        "colab": {
          "base_uri": "https://localhost:8080/"
        },
        "outputId": "bdab297d-7305-4353-b364-3c65a4e2c5e5"
      },
      "id": "5hftuh_f0mK3",
      "execution_count": null,
      "outputs": [
        {
          "output_type": "stream",
          "name": "stdout",
          "text": [
            "Mounted at /content/drive\n"
          ]
        }
      ]
    },
    {
      "cell_type": "code",
      "source": [
        "%cd /content/drive/MyDrive/chia_clinical_trials/"
      ],
      "metadata": {
        "id": "EJeHf7VePmWQ",
        "colab": {
          "base_uri": "https://localhost:8080/"
        },
        "outputId": "4db73fcd-3da0-4133-ef8f-a50804f2467d"
      },
      "id": "EJeHf7VePmWQ",
      "execution_count": null,
      "outputs": [
        {
          "output_type": "stream",
          "name": "stdout",
          "text": [
            "/content/drive/MyDrive/chia_clinical_trials\n"
          ]
        }
      ]
    },
    {
      "cell_type": "code",
      "source": [
        "!python -m pip install --user spacy==3.1.3"
      ],
      "metadata": {
        "id": "CBITeoUSPoLI",
        "colab": {
          "base_uri": "https://localhost:8080/"
        },
        "outputId": "a8cc816e-2ae5-4878-c661-25887195278a"
      },
      "id": "CBITeoUSPoLI",
      "execution_count": null,
      "outputs": [
        {
          "output_type": "stream",
          "name": "stdout",
          "text": [
            "Looking in indexes: https://pypi.org/simple, https://us-python.pkg.dev/colab-wheels/public/simple/\n",
            "Collecting spacy==3.1.3\n",
            "  Downloading spacy-3.1.3-cp37-cp37m-manylinux_2_17_x86_64.manylinux2014_x86_64.whl (5.9 MB)\n",
            "\u001b[K     |████████████████████████████████| 5.9 MB 18.4 MB/s \n",
            "\u001b[?25hRequirement already satisfied: srsly<3.0.0,>=2.4.1 in /usr/local/lib/python3.7/dist-packages (from spacy==3.1.3) (2.4.4)\n",
            "Requirement already satisfied: jinja2 in /usr/local/lib/python3.7/dist-packages (from spacy==3.1.3) (2.11.3)\n",
            "Requirement already satisfied: blis<0.8.0,>=0.4.0 in /usr/local/lib/python3.7/dist-packages (from spacy==3.1.3) (0.7.8)\n",
            "Requirement already satisfied: murmurhash<1.1.0,>=0.28.0 in /usr/local/lib/python3.7/dist-packages (from spacy==3.1.3) (1.0.8)\n",
            "Requirement already satisfied: pathy>=0.3.5 in /usr/local/lib/python3.7/dist-packages (from spacy==3.1.3) (0.6.2)\n",
            "Requirement already satisfied: packaging>=20.0 in /usr/local/lib/python3.7/dist-packages (from spacy==3.1.3) (21.3)\n",
            "Requirement already satisfied: tqdm<5.0.0,>=4.38.0 in /usr/local/lib/python3.7/dist-packages (from spacy==3.1.3) (4.64.0)\n",
            "Collecting thinc<8.1.0,>=8.0.9\n",
            "  Downloading thinc-8.0.17-cp37-cp37m-manylinux_2_17_x86_64.manylinux2014_x86_64.whl (660 kB)\n",
            "\u001b[K     |████████████████████████████████| 660 kB 65.6 MB/s \n",
            "\u001b[?25hRequirement already satisfied: wasabi<1.1.0,>=0.8.1 in /usr/local/lib/python3.7/dist-packages (from spacy==3.1.3) (0.10.1)\n",
            "Requirement already satisfied: spacy-legacy<3.1.0,>=3.0.8 in /usr/local/lib/python3.7/dist-packages (from spacy==3.1.3) (3.0.10)\n",
            "Collecting typing-extensions<4.0.0.0,>=3.7.4\n",
            "  Downloading typing_extensions-3.10.0.2-py3-none-any.whl (26 kB)\n",
            "Collecting pydantic!=1.8,!=1.8.1,<1.9.0,>=1.7.4\n",
            "  Downloading pydantic-1.8.2-cp37-cp37m-manylinux2014_x86_64.whl (10.1 MB)\n",
            "\u001b[K     |████████████████████████████████| 10.1 MB 59.3 MB/s \n",
            "\u001b[?25hRequirement already satisfied: catalogue<2.1.0,>=2.0.6 in /usr/local/lib/python3.7/dist-packages (from spacy==3.1.3) (2.0.8)\n",
            "Requirement already satisfied: numpy>=1.15.0 in /usr/local/lib/python3.7/dist-packages (from spacy==3.1.3) (1.21.6)\n",
            "Requirement already satisfied: typer<0.5.0,>=0.3.0 in /usr/local/lib/python3.7/dist-packages (from spacy==3.1.3) (0.4.2)\n",
            "Requirement already satisfied: setuptools in /usr/local/lib/python3.7/dist-packages (from spacy==3.1.3) (57.4.0)\n",
            "Requirement already satisfied: preshed<3.1.0,>=3.0.2 in /usr/local/lib/python3.7/dist-packages (from spacy==3.1.3) (3.0.7)\n",
            "Requirement already satisfied: cymem<2.1.0,>=2.0.2 in /usr/local/lib/python3.7/dist-packages (from spacy==3.1.3) (2.0.6)\n",
            "Requirement already satisfied: requests<3.0.0,>=2.13.0 in /usr/local/lib/python3.7/dist-packages (from spacy==3.1.3) (2.23.0)\n",
            "Requirement already satisfied: zipp>=0.5 in /usr/local/lib/python3.7/dist-packages (from catalogue<2.1.0,>=2.0.6->spacy==3.1.3) (3.8.1)\n",
            "Requirement already satisfied: pyparsing!=3.0.5,>=2.0.2 in /usr/local/lib/python3.7/dist-packages (from packaging>=20.0->spacy==3.1.3) (3.0.9)\n",
            "Requirement already satisfied: smart-open<6.0.0,>=5.2.1 in /usr/local/lib/python3.7/dist-packages (from pathy>=0.3.5->spacy==3.1.3) (5.2.1)\n",
            "Requirement already satisfied: idna<3,>=2.5 in /usr/local/lib/python3.7/dist-packages (from requests<3.0.0,>=2.13.0->spacy==3.1.3) (2.10)\n",
            "Requirement already satisfied: urllib3!=1.25.0,!=1.25.1,<1.26,>=1.21.1 in /usr/local/lib/python3.7/dist-packages (from requests<3.0.0,>=2.13.0->spacy==3.1.3) (1.24.3)\n",
            "Requirement already satisfied: chardet<4,>=3.0.2 in /usr/local/lib/python3.7/dist-packages (from requests<3.0.0,>=2.13.0->spacy==3.1.3) (3.0.4)\n",
            "Requirement already satisfied: certifi>=2017.4.17 in /usr/local/lib/python3.7/dist-packages (from requests<3.0.0,>=2.13.0->spacy==3.1.3) (2022.6.15)\n",
            "Requirement already satisfied: click<9.0.0,>=7.1.1 in /usr/local/lib/python3.7/dist-packages (from typer<0.5.0,>=0.3.0->spacy==3.1.3) (7.1.2)\n",
            "Requirement already satisfied: MarkupSafe>=0.23 in /usr/local/lib/python3.7/dist-packages (from jinja2->spacy==3.1.3) (2.0.1)\n",
            "Installing collected packages: typing-extensions, pydantic, thinc, spacy\n",
            "\u001b[33m  WARNING: The script spacy is installed in '/root/.local/bin' which is not on PATH.\n",
            "  Consider adding this directory to PATH or, if you prefer to suppress this warning, use --no-warn-script-location.\u001b[0m\n",
            "\u001b[31mERROR: pip's dependency resolver does not currently take into account all the packages that are installed. This behaviour is the source of the following dependency conflicts.\n",
            "en-core-web-sm 3.4.0 requires spacy<3.5.0,>=3.4.0, but you have spacy 3.1.3 which is incompatible.\u001b[0m\n",
            "Successfully installed pydantic-1.8.2 spacy-3.1.3 thinc-8.0.17 typing-extensions-3.10.0.2\n"
          ]
        }
      ]
    },
    {
      "cell_type": "code",
      "execution_count": null,
      "id": "821f0123-2dae-4be0-a593-4b948103ab08",
      "metadata": {
        "id": "821f0123-2dae-4be0-a593-4b948103ab08"
      },
      "outputs": [],
      "source": [
        "import spacy\n",
        "from spacy.tokens import DocBin\n",
        "import random, math"
      ]
    },
    {
      "cell_type": "code",
      "execution_count": null,
      "id": "b04b10ab-42f2-4d1c-ad2b-2e1f2dde89e8",
      "metadata": {
        "id": "b04b10ab-42f2-4d1c-ad2b-2e1f2dde89e8"
      },
      "outputs": [],
      "source": [
        "nlp = spacy.blank(\"en\")"
      ]
    },
    {
      "cell_type": "code",
      "execution_count": null,
      "id": "32c2a70c-e276-4ae1-9fec-62ef58158633",
      "metadata": {
        "id": "32c2a70c-e276-4ae1-9fec-62ef58158633",
        "colab": {
          "base_uri": "https://localhost:8080/"
        },
        "outputId": "7b09920a-9865-42ee-c9c3-bdfd102eb000"
      },
      "outputs": [
        {
          "output_type": "execute_result",
          "data": {
            "text/plain": [
              "<spacy.tokens._serialize.DocBin at 0x7fcd3130b9d0>"
            ]
          },
          "metadata": {},
          "execution_count": 6
        }
      ],
      "source": [
        "doc_bin = DocBin()\n",
        "doc_bin.from_disk(\"chia_rel_full.spacy\")"
      ]
    },
    {
      "cell_type": "code",
      "execution_count": null,
      "id": "2c4ff671-2298-4d31-9bd4-b987becd5956",
      "metadata": {
        "id": "2c4ff671-2298-4d31-9bd4-b987becd5956",
        "colab": {
          "base_uri": "https://localhost:8080/"
        },
        "outputId": "3099567c-8508-4976-ee39-66a8ddd6ec62"
      },
      "outputs": [
        {
          "output_type": "execute_result",
          "data": {
            "text/plain": [
              "1885"
            ]
          },
          "metadata": {},
          "execution_count": 7
        }
      ],
      "source": [
        "len(doc_bin)"
      ]
    },
    {
      "cell_type": "code",
      "execution_count": null,
      "id": "255281f1-c2cc-4a0f-88af-347f2a9cfc2f",
      "metadata": {
        "id": "255281f1-c2cc-4a0f-88af-347f2a9cfc2f"
      },
      "outputs": [],
      "source": [
        "docs = list(doc_bin.get_docs(nlp.vocab))"
      ]
    },
    {
      "cell_type": "code",
      "execution_count": null,
      "id": "d3756c39-071a-48db-b2eb-922e16084a9a",
      "metadata": {
        "id": "d3756c39-071a-48db-b2eb-922e16084a9a",
        "colab": {
          "base_uri": "https://localhost:8080/"
        },
        "outputId": "946aaa2e-fd98-4a27-a029-c47a779891c6"
      },
      "outputs": [
        {
          "output_type": "execute_result",
          "data": {
            "text/plain": [
              "(pathologically,\n",
              " invasive adenocarcinoma,\n",
              " ductal carcinoma in situ,\n",
              " segmental mastectomy,\n",
              " radiation therapy,\n",
              " local-regional disease)"
            ]
          },
          "metadata": {},
          "execution_count": 9
        }
      ],
      "source": [
        "docs[0].ents"
      ]
    },
    {
      "cell_type": "markdown",
      "id": "2ecc4d87-8f95-4f5a-a121-b11ed1ed9db9",
      "metadata": {
        "id": "2ecc4d87-8f95-4f5a-a121-b11ed1ed9db9"
      },
      "source": [
        "## TRAIN TEST VALID SPLIT CODE"
      ]
    },
    {
      "cell_type": "code",
      "execution_count": null,
      "id": "79127096-b500-411f-9969-24aa9cbb25e9",
      "metadata": {
        "id": "79127096-b500-411f-9969-24aa9cbb25e9"
      },
      "outputs": [],
      "source": [
        "# Random shuffling\n",
        "random.shuffle(docs)\n",
        "train_split = math.floor(len(docs) * 0.8)\n",
        "train_docs = docs[:train_split]\n",
        "test_docs = docs[train_split:]\n",
        "\n",
        "dev_split = math.floor(len(test_docs) * 0.8)\n",
        "dev_docs = test_docs[:dev_split]\n",
        "test_docs = test_docs[dev_split:]"
      ]
    },
    {
      "cell_type": "code",
      "execution_count": null,
      "id": "f6243b78-20fe-4e8d-95d9-c2920e7cc274",
      "metadata": {
        "id": "f6243b78-20fe-4e8d-95d9-c2920e7cc274",
        "colab": {
          "base_uri": "https://localhost:8080/"
        },
        "outputId": "bf0f3b50-838a-4018-97fd-837f75394d92"
      },
      "outputs": [
        {
          "output_type": "stream",
          "name": "stdout",
          "text": [
            "1508\n",
            "301\n",
            "76\n",
            "1885\n",
            "1885\n"
          ]
        }
      ],
      "source": [
        "print(len(train_docs))\n",
        "print(len(dev_docs))\n",
        "print(len(test_docs))\n",
        "print(len(train_docs)+len(dev_docs)+len(test_docs))\n",
        "print(len(docs))"
      ]
    },
    {
      "cell_type": "code",
      "execution_count": null,
      "id": "0461e845-5758-4fbb-8a8d-49bc54dde81f",
      "metadata": {
        "id": "0461e845-5758-4fbb-8a8d-49bc54dde81f"
      },
      "outputs": [],
      "source": [
        "# Using sklearn\n",
        "from sklearn.model_selection import train_test_split\n",
        "\n",
        "# you can add random state to preserve the split each time.\n",
        "train_docs, test_docs = train_test_split(docs, test_size=0.2)\n",
        "dev_docs, test_docs = train_test_split(test_docs, test_size=0.5)"
      ]
    },
    {
      "cell_type": "code",
      "execution_count": null,
      "id": "921a552e-93d3-44d4-a704-d9e58487315f",
      "metadata": {
        "id": "921a552e-93d3-44d4-a704-d9e58487315f",
        "colab": {
          "base_uri": "https://localhost:8080/"
        },
        "outputId": "6471ec08-cbd4-4bf4-d93a-05c2e0713653"
      },
      "outputs": [
        {
          "output_type": "stream",
          "name": "stdout",
          "text": [
            "1508\n",
            "188\n",
            "189\n",
            "1885\n",
            "1885\n"
          ]
        }
      ],
      "source": [
        "print(len(train_docs))\n",
        "print(len(dev_docs))\n",
        "print(len(test_docs))\n",
        "print(len(train_docs)+len(dev_docs)+len(test_docs))\n",
        "print(len(docs))"
      ]
    },
    {
      "cell_type": "markdown",
      "id": "1e51b816-7f91-46b3-b391-ea90416ff17c",
      "metadata": {
        "id": "1e51b816-7f91-46b3-b391-ea90416ff17c"
      },
      "source": [
        "## DUMP TO DISK"
      ]
    },
    {
      "cell_type": "code",
      "execution_count": null,
      "id": "6723285e-ffd4-44d6-abeb-500b00fd3c20",
      "metadata": {
        "id": "6723285e-ffd4-44d6-abeb-500b00fd3c20"
      },
      "outputs": [],
      "source": [
        "train_doc_bin = DocBin()\n",
        "for train_doc in train_docs:\n",
        "    train_doc_bin.add(train_doc)\n",
        "train_doc_bin.to_disk(\"./chia_rel_train.spacy\")"
      ]
    },
    {
      "cell_type": "code",
      "execution_count": null,
      "id": "d3405919-7328-4bdb-8b2c-9a6ec3edb7cb",
      "metadata": {
        "id": "d3405919-7328-4bdb-8b2c-9a6ec3edb7cb"
      },
      "outputs": [],
      "source": [
        "test_doc_bin = DocBin()\n",
        "for test_doc in test_docs:\n",
        "    test_doc_bin.add(test_doc)\n",
        "test_doc_bin.to_disk(\"./chia_rel_test.spacy\")"
      ]
    },
    {
      "cell_type": "code",
      "execution_count": null,
      "id": "9553b9ee-337b-4e1c-9ad8-ca9d4f679894",
      "metadata": {
        "id": "9553b9ee-337b-4e1c-9ad8-ca9d4f679894"
      },
      "outputs": [],
      "source": [
        "dev_doc_bin = DocBin()\n",
        "for dev_doc in dev_docs:\n",
        "    dev_doc_bin.add(dev_doc)\n",
        "dev_doc_bin.to_disk(\"./chia_rel_dev.spacy\")"
      ]
    },
    {
      "cell_type": "code",
      "source": [
        "pwd"
      ],
      "metadata": {
        "id": "IYCpRomXxJAC",
        "colab": {
          "base_uri": "https://localhost:8080/",
          "height": 35
        },
        "outputId": "4406489c-dafe-4552-b778-ae5344c60595"
      },
      "id": "IYCpRomXxJAC",
      "execution_count": null,
      "outputs": [
        {
          "output_type": "execute_result",
          "data": {
            "text/plain": [
              "'/content/drive/MyDrive/chia_clinical_trials'"
            ],
            "application/vnd.google.colaboratory.intrinsic+json": {
              "type": "string"
            }
          },
          "metadata": {},
          "execution_count": 17
        }
      ]
    },
    {
      "cell_type": "code",
      "execution_count": null,
      "id": "087cea62-dde2-4d2e-9959-eadc13a73899",
      "metadata": {
        "id": "087cea62-dde2-4d2e-9959-eadc13a73899",
        "colab": {
          "base_uri": "https://localhost:8080/"
        },
        "outputId": "a4e8b4d0-f70e-4c66-f803-a95623f6d12e"
      },
      "outputs": [
        {
          "output_type": "stream",
          "name": "stdout",
          "text": [
            "/content/drive/MyDrive/chia_clinical_trials/projects/tutorials/rel_component\n"
          ]
        }
      ],
      "source": [
        "cd /content/drive/MyDrive/chia_clinical_trials/projects/tutorials/rel_component"
      ]
    },
    {
      "cell_type": "markdown",
      "source": [
        "# RUN COMMAND"
      ],
      "metadata": {
        "id": "Liin5x7kP1YB"
      },
      "id": "Liin5x7kP1YB"
    },
    {
      "cell_type": "markdown",
      "source": [
        "## a) Evaluating the REL model on CPU"
      ],
      "metadata": {
        "id": "CCT4ePAHxOgC"
      },
      "id": "CCT4ePAHxOgC"
    },
    {
      "cell_type": "code",
      "execution_count": null,
      "id": "ce22402c-412a-45cb-8f1d-eee5a416cf88",
      "metadata": {
        "id": "ce22402c-412a-45cb-8f1d-eee5a416cf88",
        "colab": {
          "base_uri": "https://localhost:8080/"
        },
        "outputId": "090465c4-f1bf-44d9-fbb3-1dd7e169d533"
      },
      "outputs": [
        {
          "output_type": "stream",
          "name": "stdout",
          "text": [
            "\u001b[38;5;4mℹ Running workflow 'all'\u001b[0m\n",
            "\u001b[1m\n",
            "==================================== data ====================================\u001b[0m\n",
            "\u001b[38;5;4mℹ Re-running 'data': spaCy minor version changed (3.4.1 in\n",
            "project.lock, 3.1.3 current)\u001b[0m\n",
            "Running command: /usr/bin/python3 ./scripts/parse_data.py assets/annotations.jsonl data/chia_rel_train.spacy data/chia_rel_dev.spacy data/chia_rel_test.spacy\n",
            "\u001b[38;5;4mℹ 102 training sentences from 43 articles, 209/2346 pos instances.\u001b[0m\n",
            "\u001b[38;5;4mℹ 27 dev sentences from 5 articles, 56/710 pos instances.\u001b[0m\n",
            "\u001b[38;5;4mℹ 20 test sentences from 6 articles, 30/340 pos instances.\u001b[0m\n",
            "\u001b[1m\n",
            "================================= train_cpu =================================\u001b[0m\n",
            "Running command: /usr/bin/python3 -m spacy train configs/rel_tok2vec.cfg --output training --paths.train data/chia_rel_train.spacy --paths.dev data/chia_rel_dev.spacy -c ./scripts/custom_functions.py\n",
            "\u001b[38;5;4mℹ Saving to output directory: training\u001b[0m\n",
            "\u001b[38;5;4mℹ Using CPU\u001b[0m\n",
            "\u001b[1m\n",
            "=========================== Initializing pipeline ===========================\u001b[0m\n",
            "[2022-08-30 06:55:55,759] [INFO] Set up nlp object from config\n",
            "[2022-08-30 06:55:55,770] [INFO] Pipeline: ['tok2vec', 'relation_extractor']\n",
            "[2022-08-30 06:55:55,775] [INFO] Created vocabulary\n",
            "[2022-08-30 06:55:55,776] [INFO] Finished initializing nlp object\n",
            "[2022-08-30 06:55:56,002] [INFO] Initialized pipeline components: ['tok2vec', 'relation_extractor']\n",
            "\u001b[38;5;2m✔ Initialized pipeline\u001b[0m\n",
            "\u001b[1m\n",
            "============================= Training pipeline =============================\u001b[0m\n",
            "\u001b[38;5;4mℹ Pipeline: ['tok2vec', 'relation_extractor']\u001b[0m\n",
            "\u001b[38;5;4mℹ Initial learn rate: 0.001\u001b[0m\n",
            "E    #       LOSS TOK2VEC  LOSS RELAT...  REL_MICRO_P  REL_MICRO_R  REL_MICRO_F  SCORE \n",
            "---  ------  ------------  -------------  -----------  -----------  -----------  ------\n",
            "  0       0          0.03           0.44        11.90        26.79        16.48    0.16\n",
            " 17     500          1.24          42.54        52.08        44.64        48.08    0.48\n",
            " 47    1000          0.24           7.78        51.02        44.64        47.62    0.48\n",
            " 97    1500          0.16           6.02        53.33        42.86        47.52    0.48\n",
            "180    2000          0.12           4.54        51.16        39.29        44.44    0.44\n",
            "302    2500          0.01           3.57        50.00        41.07        45.10    0.45\n",
            "427    3000          0.00           3.40        53.49        41.07        46.46    0.46\n",
            "552    3500          0.00           3.63        58.97        41.07        48.42    0.48\n",
            "677    4000          0.65           4.42        52.83        50.00        51.38    0.51\n",
            "802    4500          0.00           3.54        54.17        46.43        50.00    0.50\n",
            "927    5000          0.00           3.52        56.52        46.43        50.98    0.51\n",
            "1052    5500          0.00           3.69        57.45        48.21        52.43    0.52\n",
            "1177    6000          0.00           3.52        60.47        46.43        52.53    0.53\n",
            "1302    6500          0.42           4.14        45.28        42.86        44.04    0.44\n",
            "1427    7000          0.01           3.60        46.94        41.07        43.81    0.44\n",
            "1552    7500          0.00           3.47        48.94        41.07        44.66    0.45\n",
            "1677    8000          0.02           3.43        47.06        42.86        44.86    0.45\n",
            "1802    8500          0.00           3.66        51.06        42.86        46.60    0.47\n",
            "1927    9000          0.00           3.46        48.00        42.86        45.28    0.45\n",
            "2052    9500          0.00           3.50        48.98        42.86        45.71    0.46\n",
            "2177   10000          0.00           3.59        48.98        42.86        45.71    0.46\n",
            "\u001b[38;5;2m✔ Saved pipeline to output directory\u001b[0m\n",
            "training/model-last\n",
            "\u001b[1m\n",
            "================================== evaluate ==================================\u001b[0m\n",
            "Running command: /usr/bin/python3 ./scripts/evaluate.py training/model-best data/chia_rel_test.spacy False\n",
            "\n",
            "Random baseline:\n",
            "threshold 0.00 \t {'rel_micro_p': '13.16', 'rel_micro_r': '100.00', 'rel_micro_f': '23.26'}\n",
            "threshold 0.05 \t {'rel_micro_p': '13.43', 'rel_micro_r': '96.67', 'rel_micro_f': '23.58'}\n",
            "threshold 0.10 \t {'rel_micro_p': '14.01', 'rel_micro_r': '96.67', 'rel_micro_f': '24.47'}\n",
            "threshold 0.20 \t {'rel_micro_p': '12.71', 'rel_micro_r': '76.67', 'rel_micro_f': '21.80'}\n",
            "threshold 0.30 \t {'rel_micro_p': '14.20', 'rel_micro_r': '76.67', 'rel_micro_f': '23.96'}\n",
            "threshold 0.40 \t {'rel_micro_p': '14.29', 'rel_micro_r': '66.67', 'rel_micro_f': '23.53'}\n",
            "threshold 0.50 \t {'rel_micro_p': '13.64', 'rel_micro_r': '50.00', 'rel_micro_f': '21.43'}\n",
            "threshold 0.60 \t {'rel_micro_p': '14.13', 'rel_micro_r': '43.33', 'rel_micro_f': '21.31'}\n",
            "threshold 0.70 \t {'rel_micro_p': '13.33', 'rel_micro_r': '33.33', 'rel_micro_f': '19.05'}\n",
            "threshold 0.80 \t {'rel_micro_p': '11.54', 'rel_micro_r': '20.00', 'rel_micro_f': '14.63'}\n",
            "threshold 0.90 \t {'rel_micro_p': '17.86', 'rel_micro_r': '16.67', 'rel_micro_f': '17.24'}\n",
            "threshold 0.99 \t {'rel_micro_p': '33.33', 'rel_micro_r': '3.33', 'rel_micro_f': '6.06'}\n",
            "threshold 1.00 \t {'rel_micro_p': '0.00', 'rel_micro_r': '0.00', 'rel_micro_f': '0.00'}\n",
            "\n",
            "Results of the trained model:\n",
            "threshold 0.00 \t {'rel_micro_p': '13.16', 'rel_micro_r': '100.00', 'rel_micro_f': '23.26'}\n",
            "threshold 0.05 \t {'rel_micro_p': '33.33', 'rel_micro_r': '46.67', 'rel_micro_f': '38.89'}\n",
            "threshold 0.10 \t {'rel_micro_p': '38.24', 'rel_micro_r': '43.33', 'rel_micro_f': '40.62'}\n",
            "threshold 0.20 \t {'rel_micro_p': '36.67', 'rel_micro_r': '36.67', 'rel_micro_f': '36.67'}\n",
            "threshold 0.30 \t {'rel_micro_p': '36.67', 'rel_micro_r': '36.67', 'rel_micro_f': '36.67'}\n",
            "threshold 0.40 \t {'rel_micro_p': '40.74', 'rel_micro_r': '36.67', 'rel_micro_f': '38.60'}\n",
            "threshold 0.50 \t {'rel_micro_p': '42.31', 'rel_micro_r': '36.67', 'rel_micro_f': '39.29'}\n",
            "threshold 0.60 \t {'rel_micro_p': '43.48', 'rel_micro_r': '33.33', 'rel_micro_f': '37.74'}\n",
            "threshold 0.70 \t {'rel_micro_p': '42.86', 'rel_micro_r': '30.00', 'rel_micro_f': '35.29'}\n",
            "threshold 0.80 \t {'rel_micro_p': '42.86', 'rel_micro_r': '30.00', 'rel_micro_f': '35.29'}\n",
            "threshold 0.90 \t {'rel_micro_p': '43.75', 'rel_micro_r': '23.33', 'rel_micro_f': '30.43'}\n",
            "threshold 0.99 \t {'rel_micro_p': '33.33', 'rel_micro_r': '10.00', 'rel_micro_f': '15.38'}\n",
            "threshold 1.00 \t {'rel_micro_p': '50.00', 'rel_micro_r': '10.00', 'rel_micro_f': '16.67'}\n"
          ]
        }
      ],
      "source": [
        "!python -m spacy project run all"
      ]
    },
    {
      "cell_type": "markdown",
      "source": [
        "# Save REL Model"
      ],
      "metadata": {
        "id": "GzuSE6deXpds"
      },
      "id": "GzuSE6deXpds"
    },
    {
      "cell_type": "code",
      "source": [
        "output_dir = './rel-model'\n",
        "nlp.to_disk(output_dir)\n",
        "print(\"Saved model to\", output_dir)"
      ],
      "metadata": {
        "id": "etHOWGROXvE8",
        "colab": {
          "base_uri": "https://localhost:8080/"
        },
        "outputId": "944be6eb-9182-4f79-edb4-3b9cdf03a8d4"
      },
      "id": "etHOWGROXvE8",
      "execution_count": null,
      "outputs": [
        {
          "output_type": "stream",
          "name": "stdout",
          "text": [
            "Saved model to ./rel-model\n"
          ]
        }
      ]
    },
    {
      "cell_type": "code",
      "source": [
        "# !python -m spacy download en_core_web_sm"
      ],
      "metadata": {
        "id": "ggd4olcf50MX"
      },
      "id": "ggd4olcf50MX",
      "execution_count": null,
      "outputs": []
    },
    {
      "cell_type": "code",
      "source": [
        "# !python -m spacy evaluate -o ./data/chia_rel_test.spacy en_core_web_sm ./data/chia_rel_train.spacy"
      ],
      "metadata": {
        "id": "zvif_p3l5wK3"
      },
      "id": "zvif_p3l5wK3",
      "execution_count": null,
      "outputs": []
    },
    {
      "cell_type": "markdown",
      "source": [
        "## b) Evaluating the REL model on GPU"
      ],
      "metadata": {
        "id": "NinR1TOfxS7P"
      },
      "id": "NinR1TOfxS7P"
    },
    {
      "cell_type": "code",
      "source": [
        "!pip install spacy-transformers"
      ],
      "metadata": {
        "id": "F0oZ9gUuZENA",
        "colab": {
          "base_uri": "https://localhost:8080/",
          "height": 1000
        },
        "outputId": "b58a2757-6291-4d85-c3e0-7fdef58ad12d"
      },
      "id": "F0oZ9gUuZENA",
      "execution_count": null,
      "outputs": [
        {
          "output_type": "stream",
          "name": "stdout",
          "text": [
            "Looking in indexes: https://pypi.org/simple, https://us-python.pkg.dev/colab-wheels/public/simple/\n",
            "Collecting spacy-transformers\n",
            "  Downloading spacy_transformers-1.1.8-py2.py3-none-any.whl (53 kB)\n",
            "\u001b[K     |████████████████████████████████| 53 kB 2.1 MB/s \n",
            "\u001b[?25hRequirement already satisfied: srsly<3.0.0,>=2.4.0 in /usr/local/lib/python3.7/dist-packages (from spacy-transformers) (2.4.4)\n",
            "Collecting spacy-alignments<1.0.0,>=0.7.2\n",
            "  Downloading spacy_alignments-0.8.5-cp37-cp37m-manylinux_2_17_x86_64.manylinux2014_x86_64.whl (1.1 MB)\n",
            "\u001b[K     |████████████████████████████████| 1.1 MB 62.6 MB/s \n",
            "\u001b[?25hCollecting transformers<4.22.0,>=3.4.0\n",
            "  Downloading transformers-4.21.2-py3-none-any.whl (4.7 MB)\n",
            "\u001b[K     |████████████████████████████████| 4.7 MB 54.4 MB/s \n",
            "\u001b[?25hCollecting spacy<4.0.0,>=3.4.0\n",
            "  Downloading spacy-3.4.1-cp37-cp37m-manylinux_2_17_x86_64.manylinux2014_x86_64.whl (6.3 MB)\n",
            "\u001b[K     |████████████████████████████████| 6.3 MB 35.4 MB/s \n",
            "\u001b[?25hRequirement already satisfied: torch>=1.6.0 in /usr/local/lib/python3.7/dist-packages (from spacy-transformers) (1.12.1+cu113)\n",
            "Requirement already satisfied: pathy>=0.3.5 in /usr/local/lib/python3.7/dist-packages (from spacy<4.0.0,>=3.4.0->spacy-transformers) (0.6.2)\n",
            "Requirement already satisfied: cymem<2.1.0,>=2.0.2 in /usr/local/lib/python3.7/dist-packages (from spacy<4.0.0,>=3.4.0->spacy-transformers) (2.0.6)\n",
            "Requirement already satisfied: pydantic!=1.8,!=1.8.1,<1.10.0,>=1.7.4 in /root/.local/lib/python3.7/site-packages (from spacy<4.0.0,>=3.4.0->spacy-transformers) (1.8.2)\n",
            "Requirement already satisfied: spacy-loggers<2.0.0,>=1.0.0 in /usr/local/lib/python3.7/dist-packages (from spacy<4.0.0,>=3.4.0->spacy-transformers) (1.0.3)\n",
            "Requirement already satisfied: langcodes<4.0.0,>=3.2.0 in /usr/local/lib/python3.7/dist-packages (from spacy<4.0.0,>=3.4.0->spacy-transformers) (3.3.0)\n",
            "Requirement already satisfied: murmurhash<1.1.0,>=0.28.0 in /usr/local/lib/python3.7/dist-packages (from spacy<4.0.0,>=3.4.0->spacy-transformers) (1.0.8)\n",
            "Requirement already satisfied: preshed<3.1.0,>=3.0.2 in /usr/local/lib/python3.7/dist-packages (from spacy<4.0.0,>=3.4.0->spacy-transformers) (3.0.7)\n",
            "Requirement already satisfied: spacy-legacy<3.1.0,>=3.0.9 in /usr/local/lib/python3.7/dist-packages (from spacy<4.0.0,>=3.4.0->spacy-transformers) (3.0.10)\n",
            "Requirement already satisfied: jinja2 in /usr/local/lib/python3.7/dist-packages (from spacy<4.0.0,>=3.4.0->spacy-transformers) (2.11.3)\n",
            "Requirement already satisfied: typing-extensions<4.2.0,>=3.7.4 in /root/.local/lib/python3.7/site-packages (from spacy<4.0.0,>=3.4.0->spacy-transformers) (3.10.0.2)\n",
            "Requirement already satisfied: catalogue<2.1.0,>=2.0.6 in /usr/local/lib/python3.7/dist-packages (from spacy<4.0.0,>=3.4.0->spacy-transformers) (2.0.8)\n",
            "Collecting thinc<8.2.0,>=8.1.0\n",
            "  Downloading thinc-8.1.0-cp37-cp37m-manylinux_2_17_x86_64.manylinux2014_x86_64.whl (821 kB)\n",
            "\u001b[K     |████████████████████████████████| 821 kB 49.9 MB/s \n",
            "\u001b[?25hRequirement already satisfied: requests<3.0.0,>=2.13.0 in /usr/local/lib/python3.7/dist-packages (from spacy<4.0.0,>=3.4.0->spacy-transformers) (2.23.0)\n",
            "Requirement already satisfied: tqdm<5.0.0,>=4.38.0 in /usr/local/lib/python3.7/dist-packages (from spacy<4.0.0,>=3.4.0->spacy-transformers) (4.64.0)\n",
            "Requirement already satisfied: setuptools in /usr/local/lib/python3.7/dist-packages (from spacy<4.0.0,>=3.4.0->spacy-transformers) (57.4.0)\n",
            "Requirement already satisfied: packaging>=20.0 in /usr/local/lib/python3.7/dist-packages (from spacy<4.0.0,>=3.4.0->spacy-transformers) (21.3)\n",
            "Requirement already satisfied: numpy>=1.15.0 in /usr/local/lib/python3.7/dist-packages (from spacy<4.0.0,>=3.4.0->spacy-transformers) (1.21.6)\n",
            "Requirement already satisfied: wasabi<1.1.0,>=0.9.1 in /usr/local/lib/python3.7/dist-packages (from spacy<4.0.0,>=3.4.0->spacy-transformers) (0.10.1)\n",
            "Requirement already satisfied: typer<0.5.0,>=0.3.0 in /usr/local/lib/python3.7/dist-packages (from spacy<4.0.0,>=3.4.0->spacy-transformers) (0.4.2)\n",
            "Requirement already satisfied: zipp>=0.5 in /usr/local/lib/python3.7/dist-packages (from catalogue<2.1.0,>=2.0.6->spacy<4.0.0,>=3.4.0->spacy-transformers) (3.8.1)\n",
            "Requirement already satisfied: pyparsing!=3.0.5,>=2.0.2 in /usr/local/lib/python3.7/dist-packages (from packaging>=20.0->spacy<4.0.0,>=3.4.0->spacy-transformers) (3.0.9)\n",
            "Requirement already satisfied: smart-open<6.0.0,>=5.2.1 in /usr/local/lib/python3.7/dist-packages (from pathy>=0.3.5->spacy<4.0.0,>=3.4.0->spacy-transformers) (5.2.1)\n",
            "Requirement already satisfied: chardet<4,>=3.0.2 in /usr/local/lib/python3.7/dist-packages (from requests<3.0.0,>=2.13.0->spacy<4.0.0,>=3.4.0->spacy-transformers) (3.0.4)\n",
            "Requirement already satisfied: certifi>=2017.4.17 in /usr/local/lib/python3.7/dist-packages (from requests<3.0.0,>=2.13.0->spacy<4.0.0,>=3.4.0->spacy-transformers) (2022.6.15)\n",
            "Requirement already satisfied: urllib3!=1.25.0,!=1.25.1,<1.26,>=1.21.1 in /usr/local/lib/python3.7/dist-packages (from requests<3.0.0,>=2.13.0->spacy<4.0.0,>=3.4.0->spacy-transformers) (1.24.3)\n",
            "Requirement already satisfied: idna<3,>=2.5 in /usr/local/lib/python3.7/dist-packages (from requests<3.0.0,>=2.13.0->spacy<4.0.0,>=3.4.0->spacy-transformers) (2.10)\n",
            "Requirement already satisfied: blis<0.8.0,>=0.7.8 in /usr/local/lib/python3.7/dist-packages (from thinc<8.2.0,>=8.1.0->spacy<4.0.0,>=3.4.0->spacy-transformers) (0.7.8)\n",
            "Collecting tokenizers!=0.11.3,<0.13,>=0.11.1\n",
            "  Downloading tokenizers-0.12.1-cp37-cp37m-manylinux_2_12_x86_64.manylinux2010_x86_64.whl (6.6 MB)\n",
            "\u001b[K     |████████████████████████████████| 6.6 MB 53.7 MB/s \n",
            "\u001b[?25hRequirement already satisfied: regex!=2019.12.17 in /usr/local/lib/python3.7/dist-packages (from transformers<4.22.0,>=3.4.0->spacy-transformers) (2022.6.2)\n",
            "Requirement already satisfied: filelock in /usr/local/lib/python3.7/dist-packages (from transformers<4.22.0,>=3.4.0->spacy-transformers) (3.8.0)\n",
            "Requirement already satisfied: pyyaml>=5.1 in /usr/local/lib/python3.7/dist-packages (from transformers<4.22.0,>=3.4.0->spacy-transformers) (6.0)\n",
            "Requirement already satisfied: importlib-metadata in /usr/local/lib/python3.7/dist-packages (from transformers<4.22.0,>=3.4.0->spacy-transformers) (4.12.0)\n",
            "Collecting huggingface-hub<1.0,>=0.1.0\n",
            "  Downloading huggingface_hub-0.9.1-py3-none-any.whl (120 kB)\n",
            "\u001b[K     |████████████████████████████████| 120 kB 62.5 MB/s \n",
            "\u001b[?25hRequirement already satisfied: click<9.0.0,>=7.1.1 in /usr/local/lib/python3.7/dist-packages (from typer<0.5.0,>=0.3.0->spacy<4.0.0,>=3.4.0->spacy-transformers) (7.1.2)\n",
            "Requirement already satisfied: MarkupSafe>=0.23 in /usr/local/lib/python3.7/dist-packages (from jinja2->spacy<4.0.0,>=3.4.0->spacy-transformers) (2.0.1)\n",
            "Installing collected packages: tokenizers, thinc, huggingface-hub, transformers, spacy-alignments, spacy, spacy-transformers\n",
            "  Attempting uninstall: thinc\n",
            "    Found existing installation: thinc 8.0.17\n",
            "    Uninstalling thinc-8.0.17:\n",
            "      Successfully uninstalled thinc-8.0.17\n",
            "  Attempting uninstall: spacy\n",
            "    Found existing installation: spacy 3.1.3\n",
            "    Uninstalling spacy-3.1.3:\n",
            "      Successfully uninstalled spacy-3.1.3\n",
            "Successfully installed huggingface-hub-0.9.1 spacy-3.4.1 spacy-alignments-0.8.5 spacy-transformers-1.1.8 thinc-8.1.0 tokenizers-0.12.1 transformers-4.21.2\n"
          ]
        },
        {
          "output_type": "display_data",
          "data": {
            "application/vnd.colab-display-data+json": {
              "pip_warning": {
                "packages": [
                  "spacy",
                  "thinc"
                ]
              }
            }
          },
          "metadata": {}
        }
      ]
    },
    {
      "cell_type": "code",
      "source": [
        "!python -m spacy project run all_gpu"
      ],
      "metadata": {
        "id": "Dd9d1bORQS55",
        "colab": {
          "base_uri": "https://localhost:8080/"
        },
        "outputId": "8f989ec4-7227-4bd7-ddb2-2f1d22d64ba3"
      },
      "id": "Dd9d1bORQS55",
      "execution_count": null,
      "outputs": [
        {
          "output_type": "stream",
          "name": "stdout",
          "text": [
            "\u001b[38;5;4mℹ Running workflow 'all_gpu'\u001b[0m\n",
            "\u001b[1m\n",
            "==================================== data ====================================\u001b[0m\n",
            "\u001b[38;5;4mℹ Skipping 'data': nothing changed\u001b[0m\n",
            "\u001b[1m\n",
            "================================= train_gpu =================================\u001b[0m\n",
            "Running command: /usr/bin/python3 -m spacy train configs/ner_rel_trf.cfg --output training --paths.train data/chia_rel_train.spacy --paths.dev data/chia_rel_dev.spacy -c ./scripts/custom_functions.py --gpu-id 0\n",
            "\u001b[38;5;4mℹ Saving to output directory: training\u001b[0m\n",
            "\u001b[38;5;4mℹ Using GPU: 0\u001b[0m\n",
            "\u001b[1m\n",
            "=========================== Initializing pipeline ===========================\u001b[0m\n",
            "[2022-08-30 12:42:43,812] [INFO] Set up nlp object from config\n",
            "[2022-08-30 12:42:43,821] [INFO] Pipeline: ['transformer', 'ner', 'relation_extractor']\n",
            "[2022-08-30 12:42:43,825] [INFO] Created vocabulary\n",
            "[2022-08-30 12:42:43,826] [INFO] Finished initializing nlp object\n",
            "Downloading config.json: 100% 481/481 [00:00<00:00, 525kB/s]\n",
            "Downloading vocab.json: 100% 878k/878k [00:01<00:00, 780kB/s] \n",
            "Downloading merges.txt: 100% 446k/446k [00:01<00:00, 407kB/s]\n",
            "Downloading tokenizer.json: 100% 1.29M/1.29M [00:01<00:00, 986kB/s]\n",
            "Downloading pytorch_model.bin: 100% 478M/478M [00:06<00:00, 71.9MB/s]\n",
            "Some weights of the model checkpoint at roberta-base were not used when initializing RobertaModel: ['lm_head.bias', 'lm_head.layer_norm.bias', 'lm_head.layer_norm.weight', 'lm_head.dense.weight', 'lm_head.dense.bias', 'lm_head.decoder.weight']\n",
            "- This IS expected if you are initializing RobertaModel from the checkpoint of a model trained on another task or with another architecture (e.g. initializing a BertForSequenceClassification model from a BertForPreTraining model).\n",
            "- This IS NOT expected if you are initializing RobertaModel from the checkpoint of a model that you expect to be exactly identical (initializing a BertForSequenceClassification model from a BertForSequenceClassification model).\n",
            "[2022-08-30 12:43:22,288] [INFO] Initialized pipeline components: ['transformer', 'ner', 'relation_extractor']\n",
            "\u001b[38;5;2m✔ Initialized pipeline\u001b[0m\n",
            "\u001b[1m\n",
            "============================= Training pipeline =============================\u001b[0m\n",
            "\u001b[38;5;4mℹ Pipeline: ['transformer', 'ner', 'relation_extractor']\u001b[0m\n",
            "\u001b[38;5;4mℹ Initial learn rate: 0.0\u001b[0m\n",
            "E    #       LOSS TRANS...  LOSS NER  LOSS RELAT...  ENTS_F  ENTS_P  ENTS_R  REL_MICRO_P  REL_MICRO_R  REL_MICRO_F  SCORE \n",
            "---  ------  -------------  --------  -------------  ------  ------  ------  -----------  -----------  -----------  ------\n",
            "  0       0         272.15    358.60           0.61   20.13   11.19  100.00         0.17        80.77         0.34    0.10\n",
            " 33     100       37867.90  52190.81          32.72   95.79   91.92  100.00        50.00         1.92         3.70    0.50\n",
            " 66     200          98.18    197.54           9.98   95.79   91.92  100.00        51.79        55.77        53.70    0.75\n",
            "100     300          26.77     86.77           2.94   96.81   93.81  100.00        48.00        69.23        56.69    0.77\n",
            "133     400          22.29     81.61           1.35   97.85   95.79  100.00        65.91        55.77        60.42    0.79\n",
            "166     500          10.83     70.84           0.54   95.79   91.92  100.00        50.00        50.00        50.00    0.73\n",
            "200     600           7.19     60.77           0.26   95.29   91.00  100.00        44.64        48.08        46.30    0.71\n",
            "233     700           2.14     56.63           0.22   97.33   94.79  100.00        50.00        46.15        48.00    0.73\n",
            "266     800           0.01     53.09           0.23   97.33   94.79  100.00        54.72        55.77        55.24    0.76\n",
            "300     900           0.00     52.88           0.22   97.33   94.79  100.00        49.06        50.00        49.52    0.73\n",
            "333    1000           0.00     54.26           0.21   97.85   95.79  100.00        49.06        50.00        49.52    0.74\n",
            "\u001b[38;5;2m✔ Saved pipeline to output directory\u001b[0m\n",
            "training/model-last\n",
            "\u001b[1m\n",
            "================================== evaluate ==================================\u001b[0m\n",
            "Running command: /usr/bin/python3 ./scripts/evaluate.py training/model-best data/chia_rel_test.spacy False\n",
            "\n",
            "Random baseline:\n",
            "threshold 0.00 \t {'rel_micro_p': '15.22', 'rel_micro_r': '100.00', 'rel_micro_f': '26.42'}\n",
            "threshold 0.05 \t {'rel_micro_p': '15.91', 'rel_micro_r': '100.00', 'rel_micro_f': '27.45'}\n",
            "threshold 0.10 \t {'rel_micro_p': '15.66', 'rel_micro_r': '92.86', 'rel_micro_f': '26.80'}\n",
            "threshold 0.20 \t {'rel_micro_p': '16.11', 'rel_micro_r': '85.71', 'rel_micro_f': '27.12'}\n",
            "threshold 0.30 \t {'rel_micro_p': '17.16', 'rel_micro_r': '82.14', 'rel_micro_f': '28.40'}\n",
            "threshold 0.40 \t {'rel_micro_p': '16.67', 'rel_micro_r': '67.86', 'rel_micro_f': '26.76'}\n",
            "threshold 0.50 \t {'rel_micro_p': '18.39', 'rel_micro_r': '57.14', 'rel_micro_f': '27.83'}\n",
            "threshold 0.60 \t {'rel_micro_p': '20.29', 'rel_micro_r': '50.00', 'rel_micro_f': '28.87'}\n",
            "threshold 0.70 \t {'rel_micro_p': '18.87', 'rel_micro_r': '35.71', 'rel_micro_f': '24.69'}\n",
            "threshold 0.80 \t {'rel_micro_p': '15.15', 'rel_micro_r': '17.86', 'rel_micro_f': '16.39'}\n",
            "threshold 0.90 \t {'rel_micro_p': '14.29', 'rel_micro_r': '7.14', 'rel_micro_f': '9.52'}\n",
            "threshold 0.99 \t {'rel_micro_p': '50.00', 'rel_micro_r': '3.57', 'rel_micro_f': '6.67'}\n",
            "threshold 1.00 \t {'rel_micro_p': '0.00', 'rel_micro_r': '0.00', 'rel_micro_f': '0.00'}\n",
            "\n",
            "Results of the trained model:\n",
            "threshold 0.00 \t {'rel_micro_p': '11.86', 'rel_micro_r': '100.00', 'rel_micro_f': '21.21'}\n",
            "threshold 0.05 \t {'rel_micro_p': '50.00', 'rel_micro_r': '85.71', 'rel_micro_f': '63.16'}\n",
            "threshold 0.10 \t {'rel_micro_p': '55.81', 'rel_micro_r': '85.71', 'rel_micro_f': '67.61'}\n",
            "threshold 0.20 \t {'rel_micro_p': '68.57', 'rel_micro_r': '85.71', 'rel_micro_f': '76.19'}\n",
            "threshold 0.30 \t {'rel_micro_p': '76.67', 'rel_micro_r': '82.14', 'rel_micro_f': '79.31'}\n",
            "threshold 0.40 \t {'rel_micro_p': '77.78', 'rel_micro_r': '75.00', 'rel_micro_f': '76.36'}\n",
            "threshold 0.50 \t {'rel_micro_p': '80.00', 'rel_micro_r': '71.43', 'rel_micro_f': '75.47'}\n",
            "threshold 0.60 \t {'rel_micro_p': '83.33', 'rel_micro_r': '71.43', 'rel_micro_f': '76.92'}\n",
            "threshold 0.70 \t {'rel_micro_p': '81.82', 'rel_micro_r': '64.29', 'rel_micro_f': '72.00'}\n",
            "threshold 0.80 \t {'rel_micro_p': '85.71', 'rel_micro_r': '64.29', 'rel_micro_f': '73.47'}\n",
            "threshold 0.90 \t {'rel_micro_p': '88.89', 'rel_micro_r': '57.14', 'rel_micro_f': '69.57'}\n",
            "threshold 0.99 \t {'rel_micro_p': '100.00', 'rel_micro_r': '32.14', 'rel_micro_f': '48.65'}\n",
            "threshold 1.00 \t {'rel_micro_p': '100.00', 'rel_micro_r': '10.71', 'rel_micro_f': '19.35'}\n"
          ]
        }
      ]
    },
    {
      "cell_type": "code",
      "source": [],
      "metadata": {
        "id": "VMQHswj7xEKq"
      },
      "id": "VMQHswj7xEKq",
      "execution_count": null,
      "outputs": []
    }
  ],
  "metadata": {
    "kernelspec": {
      "display_name": "Python 3",
      "language": "python",
      "name": "python3"
    },
    "language_info": {
      "codemirror_mode": {
        "name": "ipython",
        "version": 3
      },
      "file_extension": ".py",
      "mimetype": "text/x-python",
      "name": "python",
      "nbconvert_exporter": "python",
      "pygments_lexer": "ipython3",
      "version": "3.7.0"
    },
    "colab": {
      "provenance": [],
      "collapsed_sections": []
    },
    "gpuClass": "standard",
    "accelerator": "GPU"
  },
  "nbformat": 4,
  "nbformat_minor": 5
}