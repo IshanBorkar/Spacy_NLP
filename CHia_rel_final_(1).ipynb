{
  "nbformat": 4,
  "nbformat_minor": 0,
  "metadata": {
    "colab": {
      "provenance": [],
      "collapsed_sections": []
    },
    "kernelspec": {
      "name": "python3",
      "display_name": "Python 3"
    },
    "language_info": {
      "name": "python"
    }
  },
  "cells": [
    {
      "cell_type": "code",
      "source": [
        "!unzip /content/chia_with_scope.zip -d /content/chia"
      ],
      "metadata": {
        "id": "ac81iqtFJ_43"
      },
      "execution_count": null,
      "outputs": []
    },
    {
      "cell_type": "code",
      "execution_count": 2,
      "metadata": {
        "id": "s_DNuDbc-jqc"
      },
      "outputs": [],
      "source": [
        "import pandas as pd"
      ]
    },
    {
      "cell_type": "code",
      "source": [
        "data = pd.read_csv(\"/content/chia_rel_dataset.tsv\",sep=\"\\t\")"
      ],
      "metadata": {
        "id": "gDpJtJKN_pod"
      },
      "execution_count": 3,
      "outputs": []
    },
    {
      "cell_type": "code",
      "source": [
        "data.head()"
      ],
      "metadata": {
        "colab": {
          "base_uri": "https://localhost:8080/",
          "height": 392
        },
        "id": "5Kl_XDhQ_zFt",
        "outputId": "b6837539-9fcd-4c13-b541-a64bbb4bcb17"
      },
      "execution_count": 4,
      "outputs": [
        {
          "output_type": "execute_result",
          "data": {
            "text/plain": [
              "    rel_type head_ent tail_ent      head_ent_span              head_ent_txt  \\\n",
              "0  Has_value       T2       T3    Procedure 10 24            pathologically   \n",
              "1         OR       T5       T4    Condition 62 86  ductal carcinoma in situ   \n",
              "2        AND       T4       T2    Condition 35 58   invasive adenocarcinoma   \n",
              "3        AND       T5       T2    Condition 62 86  ductal carcinoma in situ   \n",
              "4   Subsumes       T1       T6  Procedure 132 152      segmental mastectomy   \n",
              "\n",
              "       tail_ent_span             tail_ent_txt head_ent_type  hspan_start  \\\n",
              "0        Value 25 34                confirmed     Procedure         10.0   \n",
              "1    Condition 35 58  invasive adenocarcinoma     Condition         62.0   \n",
              "2    Procedure 10 24           pathologically     Condition         35.0   \n",
              "3    Procedure 10 24           pathologically     Condition         62.0   \n",
              "4  Procedure 160 170               lumpectomy     Procedure        132.0   \n",
              "\n",
              "   hspan_end tail_ent_type  tspan_start  tspan_end               source  \\\n",
              "0       24.0         Value         25.0       34.0  NCT00894712_inc.ann   \n",
              "1       86.0     Condition         35.0       58.0  NCT00894712_inc.ann   \n",
              "2       58.0     Procedure         10.0       24.0  NCT00894712_inc.ann   \n",
              "3       86.0     Procedure         10.0       24.0  NCT00894712_inc.ann   \n",
              "4      152.0     Procedure        160.0      170.0  NCT00894712_inc.ann   \n",
              "\n",
              "   trem_idx_start  trem_idx_end  hrem_idx_start  hrem_idx_end  \n",
              "0             NaN           NaN             NaN           NaN  \n",
              "1             NaN           NaN             NaN           NaN  \n",
              "2             NaN           NaN             NaN           NaN  \n",
              "3             NaN           NaN             NaN           NaN  \n",
              "4             NaN           NaN             NaN           NaN  "
            ],
            "text/html": [
              "\n",
              "  <div id=\"df-2c9c011a-6621-4f74-b7ab-14e783814ba9\">\n",
              "    <div class=\"colab-df-container\">\n",
              "      <div>\n",
              "<style scoped>\n",
              "    .dataframe tbody tr th:only-of-type {\n",
              "        vertical-align: middle;\n",
              "    }\n",
              "\n",
              "    .dataframe tbody tr th {\n",
              "        vertical-align: top;\n",
              "    }\n",
              "\n",
              "    .dataframe thead th {\n",
              "        text-align: right;\n",
              "    }\n",
              "</style>\n",
              "<table border=\"1\" class=\"dataframe\">\n",
              "  <thead>\n",
              "    <tr style=\"text-align: right;\">\n",
              "      <th></th>\n",
              "      <th>rel_type</th>\n",
              "      <th>head_ent</th>\n",
              "      <th>tail_ent</th>\n",
              "      <th>head_ent_span</th>\n",
              "      <th>head_ent_txt</th>\n",
              "      <th>tail_ent_span</th>\n",
              "      <th>tail_ent_txt</th>\n",
              "      <th>head_ent_type</th>\n",
              "      <th>hspan_start</th>\n",
              "      <th>hspan_end</th>\n",
              "      <th>tail_ent_type</th>\n",
              "      <th>tspan_start</th>\n",
              "      <th>tspan_end</th>\n",
              "      <th>source</th>\n",
              "      <th>trem_idx_start</th>\n",
              "      <th>trem_idx_end</th>\n",
              "      <th>hrem_idx_start</th>\n",
              "      <th>hrem_idx_end</th>\n",
              "    </tr>\n",
              "  </thead>\n",
              "  <tbody>\n",
              "    <tr>\n",
              "      <th>0</th>\n",
              "      <td>Has_value</td>\n",
              "      <td>T2</td>\n",
              "      <td>T3</td>\n",
              "      <td>Procedure 10 24</td>\n",
              "      <td>pathologically</td>\n",
              "      <td>Value 25 34</td>\n",
              "      <td>confirmed</td>\n",
              "      <td>Procedure</td>\n",
              "      <td>10.0</td>\n",
              "      <td>24.0</td>\n",
              "      <td>Value</td>\n",
              "      <td>25.0</td>\n",
              "      <td>34.0</td>\n",
              "      <td>NCT00894712_inc.ann</td>\n",
              "      <td>NaN</td>\n",
              "      <td>NaN</td>\n",
              "      <td>NaN</td>\n",
              "      <td>NaN</td>\n",
              "    </tr>\n",
              "    <tr>\n",
              "      <th>1</th>\n",
              "      <td>OR</td>\n",
              "      <td>T5</td>\n",
              "      <td>T4</td>\n",
              "      <td>Condition 62 86</td>\n",
              "      <td>ductal carcinoma in situ</td>\n",
              "      <td>Condition 35 58</td>\n",
              "      <td>invasive adenocarcinoma</td>\n",
              "      <td>Condition</td>\n",
              "      <td>62.0</td>\n",
              "      <td>86.0</td>\n",
              "      <td>Condition</td>\n",
              "      <td>35.0</td>\n",
              "      <td>58.0</td>\n",
              "      <td>NCT00894712_inc.ann</td>\n",
              "      <td>NaN</td>\n",
              "      <td>NaN</td>\n",
              "      <td>NaN</td>\n",
              "      <td>NaN</td>\n",
              "    </tr>\n",
              "    <tr>\n",
              "      <th>2</th>\n",
              "      <td>AND</td>\n",
              "      <td>T4</td>\n",
              "      <td>T2</td>\n",
              "      <td>Condition 35 58</td>\n",
              "      <td>invasive adenocarcinoma</td>\n",
              "      <td>Procedure 10 24</td>\n",
              "      <td>pathologically</td>\n",
              "      <td>Condition</td>\n",
              "      <td>35.0</td>\n",
              "      <td>58.0</td>\n",
              "      <td>Procedure</td>\n",
              "      <td>10.0</td>\n",
              "      <td>24.0</td>\n",
              "      <td>NCT00894712_inc.ann</td>\n",
              "      <td>NaN</td>\n",
              "      <td>NaN</td>\n",
              "      <td>NaN</td>\n",
              "      <td>NaN</td>\n",
              "    </tr>\n",
              "    <tr>\n",
              "      <th>3</th>\n",
              "      <td>AND</td>\n",
              "      <td>T5</td>\n",
              "      <td>T2</td>\n",
              "      <td>Condition 62 86</td>\n",
              "      <td>ductal carcinoma in situ</td>\n",
              "      <td>Procedure 10 24</td>\n",
              "      <td>pathologically</td>\n",
              "      <td>Condition</td>\n",
              "      <td>62.0</td>\n",
              "      <td>86.0</td>\n",
              "      <td>Procedure</td>\n",
              "      <td>10.0</td>\n",
              "      <td>24.0</td>\n",
              "      <td>NCT00894712_inc.ann</td>\n",
              "      <td>NaN</td>\n",
              "      <td>NaN</td>\n",
              "      <td>NaN</td>\n",
              "      <td>NaN</td>\n",
              "    </tr>\n",
              "    <tr>\n",
              "      <th>4</th>\n",
              "      <td>Subsumes</td>\n",
              "      <td>T1</td>\n",
              "      <td>T6</td>\n",
              "      <td>Procedure 132 152</td>\n",
              "      <td>segmental mastectomy</td>\n",
              "      <td>Procedure 160 170</td>\n",
              "      <td>lumpectomy</td>\n",
              "      <td>Procedure</td>\n",
              "      <td>132.0</td>\n",
              "      <td>152.0</td>\n",
              "      <td>Procedure</td>\n",
              "      <td>160.0</td>\n",
              "      <td>170.0</td>\n",
              "      <td>NCT00894712_inc.ann</td>\n",
              "      <td>NaN</td>\n",
              "      <td>NaN</td>\n",
              "      <td>NaN</td>\n",
              "      <td>NaN</td>\n",
              "    </tr>\n",
              "  </tbody>\n",
              "</table>\n",
              "</div>\n",
              "      <button class=\"colab-df-convert\" onclick=\"convertToInteractive('df-2c9c011a-6621-4f74-b7ab-14e783814ba9')\"\n",
              "              title=\"Convert this dataframe to an interactive table.\"\n",
              "              style=\"display:none;\">\n",
              "        \n",
              "  <svg xmlns=\"http://www.w3.org/2000/svg\" height=\"24px\"viewBox=\"0 0 24 24\"\n",
              "       width=\"24px\">\n",
              "    <path d=\"M0 0h24v24H0V0z\" fill=\"none\"/>\n",
              "    <path d=\"M18.56 5.44l.94 2.06.94-2.06 2.06-.94-2.06-.94-.94-2.06-.94 2.06-2.06.94zm-11 1L8.5 8.5l.94-2.06 2.06-.94-2.06-.94L8.5 2.5l-.94 2.06-2.06.94zm10 10l.94 2.06.94-2.06 2.06-.94-2.06-.94-.94-2.06-.94 2.06-2.06.94z\"/><path d=\"M17.41 7.96l-1.37-1.37c-.4-.4-.92-.59-1.43-.59-.52 0-1.04.2-1.43.59L10.3 9.45l-7.72 7.72c-.78.78-.78 2.05 0 2.83L4 21.41c.39.39.9.59 1.41.59.51 0 1.02-.2 1.41-.59l7.78-7.78 2.81-2.81c.8-.78.8-2.07 0-2.86zM5.41 20L4 18.59l7.72-7.72 1.47 1.35L5.41 20z\"/>\n",
              "  </svg>\n",
              "      </button>\n",
              "      \n",
              "  <style>\n",
              "    .colab-df-container {\n",
              "      display:flex;\n",
              "      flex-wrap:wrap;\n",
              "      gap: 12px;\n",
              "    }\n",
              "\n",
              "    .colab-df-convert {\n",
              "      background-color: #E8F0FE;\n",
              "      border: none;\n",
              "      border-radius: 50%;\n",
              "      cursor: pointer;\n",
              "      display: none;\n",
              "      fill: #1967D2;\n",
              "      height: 32px;\n",
              "      padding: 0 0 0 0;\n",
              "      width: 32px;\n",
              "    }\n",
              "\n",
              "    .colab-df-convert:hover {\n",
              "      background-color: #E2EBFA;\n",
              "      box-shadow: 0px 1px 2px rgba(60, 64, 67, 0.3), 0px 1px 3px 1px rgba(60, 64, 67, 0.15);\n",
              "      fill: #174EA6;\n",
              "    }\n",
              "\n",
              "    [theme=dark] .colab-df-convert {\n",
              "      background-color: #3B4455;\n",
              "      fill: #D2E3FC;\n",
              "    }\n",
              "\n",
              "    [theme=dark] .colab-df-convert:hover {\n",
              "      background-color: #434B5C;\n",
              "      box-shadow: 0px 1px 3px 1px rgba(0, 0, 0, 0.15);\n",
              "      filter: drop-shadow(0px 1px 2px rgba(0, 0, 0, 0.3));\n",
              "      fill: #FFFFFF;\n",
              "    }\n",
              "  </style>\n",
              "\n",
              "      <script>\n",
              "        const buttonEl =\n",
              "          document.querySelector('#df-2c9c011a-6621-4f74-b7ab-14e783814ba9 button.colab-df-convert');\n",
              "        buttonEl.style.display =\n",
              "          google.colab.kernel.accessAllowed ? 'block' : 'none';\n",
              "\n",
              "        async function convertToInteractive(key) {\n",
              "          const element = document.querySelector('#df-2c9c011a-6621-4f74-b7ab-14e783814ba9');\n",
              "          const dataTable =\n",
              "            await google.colab.kernel.invokeFunction('convertToInteractive',\n",
              "                                                     [key], {});\n",
              "          if (!dataTable) return;\n",
              "\n",
              "          const docLinkHtml = 'Like what you see? Visit the ' +\n",
              "            '<a target=\"_blank\" href=https://colab.research.google.com/notebooks/data_table.ipynb>data table notebook</a>'\n",
              "            + ' to learn more about interactive tables.';\n",
              "          element.innerHTML = '';\n",
              "          dataTable['output_type'] = 'display_data';\n",
              "          await google.colab.output.renderOutput(dataTable, element);\n",
              "          const docLink = document.createElement('div');\n",
              "          docLink.innerHTML = docLinkHtml;\n",
              "          element.appendChild(docLink);\n",
              "        }\n",
              "      </script>\n",
              "    </div>\n",
              "  </div>\n",
              "  "
            ]
          },
          "metadata": {},
          "execution_count": 4
        }
      ]
    },
    {
      "cell_type": "code",
      "source": [
        "files = data.source.unique()"
      ],
      "metadata": {
        "id": "zXglS6XD_z60"
      },
      "execution_count": 5,
      "outputs": []
    },
    {
      "cell_type": "code",
      "source": [
        "data[data.source==files[0]]"
      ],
      "metadata": {
        "colab": {
          "base_uri": "https://localhost:8080/",
          "height": 653
        },
        "id": "n8EZW8T-CBnU",
        "outputId": "ac506d85-8989-438d-e497-5ed4fad422eb"
      },
      "execution_count": 6,
      "outputs": [
        {
          "output_type": "execute_result",
          "data": {
            "text/plain": [
              "        rel_type head_ent tail_ent      head_ent_span  \\\n",
              "0      Has_value       T2       T3    Procedure 10 24   \n",
              "1             OR       T5       T4    Condition 62 86   \n",
              "2            AND       T4       T2    Condition 35 58   \n",
              "3            AND       T5       T2    Condition 62 86   \n",
              "4       Subsumes       T1       T6  Procedure 132 152   \n",
              "5   Has_negation       T7       T8  Procedure 212 229   \n",
              "6  Has_qualifier       T4       T9    Condition 35 58   \n",
              "7  Has_qualifier       T5       T9    Condition 62 86   \n",
              "8   Has_temporal      T10      T12  Condition 276 298   \n",
              "9   Has_negation      T10      T13  Condition 276 298   \n",
              "\n",
              "               head_ent_txt      tail_ent_span             tail_ent_txt  \\\n",
              "0            pathologically        Value 25 34                confirmed   \n",
              "1  ductal carcinoma in situ    Condition 35 58  invasive adenocarcinoma   \n",
              "2   invasive adenocarcinoma    Procedure 10 24           pathologically   \n",
              "3  ductal carcinoma in situ    Procedure 10 24           pathologically   \n",
              "4      segmental mastectomy  Procedure 160 170               lumpectomy   \n",
              "5         radiation therapy   Negation 188 191                      not   \n",
              "6   invasive adenocarcinoma   Qualifier 87 100            of the breast   \n",
              "7  ductal carcinoma in situ   Qualifier 87 100            of the breast   \n",
              "8    local-regional disease   Temporal 269 275                   active   \n",
              "9    local-regional disease   Negation 260 263                      not   \n",
              "\n",
              "  head_ent_type  hspan_start  hspan_end tail_ent_type  tspan_start  tspan_end  \\\n",
              "0     Procedure         10.0       24.0         Value         25.0       34.0   \n",
              "1     Condition         62.0       86.0     Condition         35.0       58.0   \n",
              "2     Condition         35.0       58.0     Procedure         10.0       24.0   \n",
              "3     Condition         62.0       86.0     Procedure         10.0       24.0   \n",
              "4     Procedure        132.0      152.0     Procedure        160.0      170.0   \n",
              "5     Procedure        212.0      229.0      Negation        188.0      191.0   \n",
              "6     Condition         35.0       58.0     Qualifier         87.0      100.0   \n",
              "7     Condition         62.0       86.0     Qualifier         87.0      100.0   \n",
              "8     Condition        276.0      298.0      Temporal        269.0      275.0   \n",
              "9     Condition        276.0      298.0      Negation        260.0      263.0   \n",
              "\n",
              "                source  trem_idx_start  trem_idx_end  hrem_idx_start  \\\n",
              "0  NCT00894712_inc.ann             NaN           NaN             NaN   \n",
              "1  NCT00894712_inc.ann             NaN           NaN             NaN   \n",
              "2  NCT00894712_inc.ann             NaN           NaN             NaN   \n",
              "3  NCT00894712_inc.ann             NaN           NaN             NaN   \n",
              "4  NCT00894712_inc.ann             NaN           NaN             NaN   \n",
              "5  NCT00894712_inc.ann             NaN           NaN             NaN   \n",
              "6  NCT00894712_inc.ann             NaN           NaN             NaN   \n",
              "7  NCT00894712_inc.ann             NaN           NaN             NaN   \n",
              "8  NCT00894712_inc.ann             NaN           NaN             NaN   \n",
              "9  NCT00894712_inc.ann             NaN           NaN             NaN   \n",
              "\n",
              "   hrem_idx_end  \n",
              "0           NaN  \n",
              "1           NaN  \n",
              "2           NaN  \n",
              "3           NaN  \n",
              "4           NaN  \n",
              "5           NaN  \n",
              "6           NaN  \n",
              "7           NaN  \n",
              "8           NaN  \n",
              "9           NaN  "
            ],
            "text/html": [
              "\n",
              "  <div id=\"df-9853067f-ae0b-4f4f-8490-f8074377c842\">\n",
              "    <div class=\"colab-df-container\">\n",
              "      <div>\n",
              "<style scoped>\n",
              "    .dataframe tbody tr th:only-of-type {\n",
              "        vertical-align: middle;\n",
              "    }\n",
              "\n",
              "    .dataframe tbody tr th {\n",
              "        vertical-align: top;\n",
              "    }\n",
              "\n",
              "    .dataframe thead th {\n",
              "        text-align: right;\n",
              "    }\n",
              "</style>\n",
              "<table border=\"1\" class=\"dataframe\">\n",
              "  <thead>\n",
              "    <tr style=\"text-align: right;\">\n",
              "      <th></th>\n",
              "      <th>rel_type</th>\n",
              "      <th>head_ent</th>\n",
              "      <th>tail_ent</th>\n",
              "      <th>head_ent_span</th>\n",
              "      <th>head_ent_txt</th>\n",
              "      <th>tail_ent_span</th>\n",
              "      <th>tail_ent_txt</th>\n",
              "      <th>head_ent_type</th>\n",
              "      <th>hspan_start</th>\n",
              "      <th>hspan_end</th>\n",
              "      <th>tail_ent_type</th>\n",
              "      <th>tspan_start</th>\n",
              "      <th>tspan_end</th>\n",
              "      <th>source</th>\n",
              "      <th>trem_idx_start</th>\n",
              "      <th>trem_idx_end</th>\n",
              "      <th>hrem_idx_start</th>\n",
              "      <th>hrem_idx_end</th>\n",
              "    </tr>\n",
              "  </thead>\n",
              "  <tbody>\n",
              "    <tr>\n",
              "      <th>0</th>\n",
              "      <td>Has_value</td>\n",
              "      <td>T2</td>\n",
              "      <td>T3</td>\n",
              "      <td>Procedure 10 24</td>\n",
              "      <td>pathologically</td>\n",
              "      <td>Value 25 34</td>\n",
              "      <td>confirmed</td>\n",
              "      <td>Procedure</td>\n",
              "      <td>10.0</td>\n",
              "      <td>24.0</td>\n",
              "      <td>Value</td>\n",
              "      <td>25.0</td>\n",
              "      <td>34.0</td>\n",
              "      <td>NCT00894712_inc.ann</td>\n",
              "      <td>NaN</td>\n",
              "      <td>NaN</td>\n",
              "      <td>NaN</td>\n",
              "      <td>NaN</td>\n",
              "    </tr>\n",
              "    <tr>\n",
              "      <th>1</th>\n",
              "      <td>OR</td>\n",
              "      <td>T5</td>\n",
              "      <td>T4</td>\n",
              "      <td>Condition 62 86</td>\n",
              "      <td>ductal carcinoma in situ</td>\n",
              "      <td>Condition 35 58</td>\n",
              "      <td>invasive adenocarcinoma</td>\n",
              "      <td>Condition</td>\n",
              "      <td>62.0</td>\n",
              "      <td>86.0</td>\n",
              "      <td>Condition</td>\n",
              "      <td>35.0</td>\n",
              "      <td>58.0</td>\n",
              "      <td>NCT00894712_inc.ann</td>\n",
              "      <td>NaN</td>\n",
              "      <td>NaN</td>\n",
              "      <td>NaN</td>\n",
              "      <td>NaN</td>\n",
              "    </tr>\n",
              "    <tr>\n",
              "      <th>2</th>\n",
              "      <td>AND</td>\n",
              "      <td>T4</td>\n",
              "      <td>T2</td>\n",
              "      <td>Condition 35 58</td>\n",
              "      <td>invasive adenocarcinoma</td>\n",
              "      <td>Procedure 10 24</td>\n",
              "      <td>pathologically</td>\n",
              "      <td>Condition</td>\n",
              "      <td>35.0</td>\n",
              "      <td>58.0</td>\n",
              "      <td>Procedure</td>\n",
              "      <td>10.0</td>\n",
              "      <td>24.0</td>\n",
              "      <td>NCT00894712_inc.ann</td>\n",
              "      <td>NaN</td>\n",
              "      <td>NaN</td>\n",
              "      <td>NaN</td>\n",
              "      <td>NaN</td>\n",
              "    </tr>\n",
              "    <tr>\n",
              "      <th>3</th>\n",
              "      <td>AND</td>\n",
              "      <td>T5</td>\n",
              "      <td>T2</td>\n",
              "      <td>Condition 62 86</td>\n",
              "      <td>ductal carcinoma in situ</td>\n",
              "      <td>Procedure 10 24</td>\n",
              "      <td>pathologically</td>\n",
              "      <td>Condition</td>\n",
              "      <td>62.0</td>\n",
              "      <td>86.0</td>\n",
              "      <td>Procedure</td>\n",
              "      <td>10.0</td>\n",
              "      <td>24.0</td>\n",
              "      <td>NCT00894712_inc.ann</td>\n",
              "      <td>NaN</td>\n",
              "      <td>NaN</td>\n",
              "      <td>NaN</td>\n",
              "      <td>NaN</td>\n",
              "    </tr>\n",
              "    <tr>\n",
              "      <th>4</th>\n",
              "      <td>Subsumes</td>\n",
              "      <td>T1</td>\n",
              "      <td>T6</td>\n",
              "      <td>Procedure 132 152</td>\n",
              "      <td>segmental mastectomy</td>\n",
              "      <td>Procedure 160 170</td>\n",
              "      <td>lumpectomy</td>\n",
              "      <td>Procedure</td>\n",
              "      <td>132.0</td>\n",
              "      <td>152.0</td>\n",
              "      <td>Procedure</td>\n",
              "      <td>160.0</td>\n",
              "      <td>170.0</td>\n",
              "      <td>NCT00894712_inc.ann</td>\n",
              "      <td>NaN</td>\n",
              "      <td>NaN</td>\n",
              "      <td>NaN</td>\n",
              "      <td>NaN</td>\n",
              "    </tr>\n",
              "    <tr>\n",
              "      <th>5</th>\n",
              "      <td>Has_negation</td>\n",
              "      <td>T7</td>\n",
              "      <td>T8</td>\n",
              "      <td>Procedure 212 229</td>\n",
              "      <td>radiation therapy</td>\n",
              "      <td>Negation 188 191</td>\n",
              "      <td>not</td>\n",
              "      <td>Procedure</td>\n",
              "      <td>212.0</td>\n",
              "      <td>229.0</td>\n",
              "      <td>Negation</td>\n",
              "      <td>188.0</td>\n",
              "      <td>191.0</td>\n",
              "      <td>NCT00894712_inc.ann</td>\n",
              "      <td>NaN</td>\n",
              "      <td>NaN</td>\n",
              "      <td>NaN</td>\n",
              "      <td>NaN</td>\n",
              "    </tr>\n",
              "    <tr>\n",
              "      <th>6</th>\n",
              "      <td>Has_qualifier</td>\n",
              "      <td>T4</td>\n",
              "      <td>T9</td>\n",
              "      <td>Condition 35 58</td>\n",
              "      <td>invasive adenocarcinoma</td>\n",
              "      <td>Qualifier 87 100</td>\n",
              "      <td>of the breast</td>\n",
              "      <td>Condition</td>\n",
              "      <td>35.0</td>\n",
              "      <td>58.0</td>\n",
              "      <td>Qualifier</td>\n",
              "      <td>87.0</td>\n",
              "      <td>100.0</td>\n",
              "      <td>NCT00894712_inc.ann</td>\n",
              "      <td>NaN</td>\n",
              "      <td>NaN</td>\n",
              "      <td>NaN</td>\n",
              "      <td>NaN</td>\n",
              "    </tr>\n",
              "    <tr>\n",
              "      <th>7</th>\n",
              "      <td>Has_qualifier</td>\n",
              "      <td>T5</td>\n",
              "      <td>T9</td>\n",
              "      <td>Condition 62 86</td>\n",
              "      <td>ductal carcinoma in situ</td>\n",
              "      <td>Qualifier 87 100</td>\n",
              "      <td>of the breast</td>\n",
              "      <td>Condition</td>\n",
              "      <td>62.0</td>\n",
              "      <td>86.0</td>\n",
              "      <td>Qualifier</td>\n",
              "      <td>87.0</td>\n",
              "      <td>100.0</td>\n",
              "      <td>NCT00894712_inc.ann</td>\n",
              "      <td>NaN</td>\n",
              "      <td>NaN</td>\n",
              "      <td>NaN</td>\n",
              "      <td>NaN</td>\n",
              "    </tr>\n",
              "    <tr>\n",
              "      <th>8</th>\n",
              "      <td>Has_temporal</td>\n",
              "      <td>T10</td>\n",
              "      <td>T12</td>\n",
              "      <td>Condition 276 298</td>\n",
              "      <td>local-regional disease</td>\n",
              "      <td>Temporal 269 275</td>\n",
              "      <td>active</td>\n",
              "      <td>Condition</td>\n",
              "      <td>276.0</td>\n",
              "      <td>298.0</td>\n",
              "      <td>Temporal</td>\n",
              "      <td>269.0</td>\n",
              "      <td>275.0</td>\n",
              "      <td>NCT00894712_inc.ann</td>\n",
              "      <td>NaN</td>\n",
              "      <td>NaN</td>\n",
              "      <td>NaN</td>\n",
              "      <td>NaN</td>\n",
              "    </tr>\n",
              "    <tr>\n",
              "      <th>9</th>\n",
              "      <td>Has_negation</td>\n",
              "      <td>T10</td>\n",
              "      <td>T13</td>\n",
              "      <td>Condition 276 298</td>\n",
              "      <td>local-regional disease</td>\n",
              "      <td>Negation 260 263</td>\n",
              "      <td>not</td>\n",
              "      <td>Condition</td>\n",
              "      <td>276.0</td>\n",
              "      <td>298.0</td>\n",
              "      <td>Negation</td>\n",
              "      <td>260.0</td>\n",
              "      <td>263.0</td>\n",
              "      <td>NCT00894712_inc.ann</td>\n",
              "      <td>NaN</td>\n",
              "      <td>NaN</td>\n",
              "      <td>NaN</td>\n",
              "      <td>NaN</td>\n",
              "    </tr>\n",
              "  </tbody>\n",
              "</table>\n",
              "</div>\n",
              "      <button class=\"colab-df-convert\" onclick=\"convertToInteractive('df-9853067f-ae0b-4f4f-8490-f8074377c842')\"\n",
              "              title=\"Convert this dataframe to an interactive table.\"\n",
              "              style=\"display:none;\">\n",
              "        \n",
              "  <svg xmlns=\"http://www.w3.org/2000/svg\" height=\"24px\"viewBox=\"0 0 24 24\"\n",
              "       width=\"24px\">\n",
              "    <path d=\"M0 0h24v24H0V0z\" fill=\"none\"/>\n",
              "    <path d=\"M18.56 5.44l.94 2.06.94-2.06 2.06-.94-2.06-.94-.94-2.06-.94 2.06-2.06.94zm-11 1L8.5 8.5l.94-2.06 2.06-.94-2.06-.94L8.5 2.5l-.94 2.06-2.06.94zm10 10l.94 2.06.94-2.06 2.06-.94-2.06-.94-.94-2.06-.94 2.06-2.06.94z\"/><path d=\"M17.41 7.96l-1.37-1.37c-.4-.4-.92-.59-1.43-.59-.52 0-1.04.2-1.43.59L10.3 9.45l-7.72 7.72c-.78.78-.78 2.05 0 2.83L4 21.41c.39.39.9.59 1.41.59.51 0 1.02-.2 1.41-.59l7.78-7.78 2.81-2.81c.8-.78.8-2.07 0-2.86zM5.41 20L4 18.59l7.72-7.72 1.47 1.35L5.41 20z\"/>\n",
              "  </svg>\n",
              "      </button>\n",
              "      \n",
              "  <style>\n",
              "    .colab-df-container {\n",
              "      display:flex;\n",
              "      flex-wrap:wrap;\n",
              "      gap: 12px;\n",
              "    }\n",
              "\n",
              "    .colab-df-convert {\n",
              "      background-color: #E8F0FE;\n",
              "      border: none;\n",
              "      border-radius: 50%;\n",
              "      cursor: pointer;\n",
              "      display: none;\n",
              "      fill: #1967D2;\n",
              "      height: 32px;\n",
              "      padding: 0 0 0 0;\n",
              "      width: 32px;\n",
              "    }\n",
              "\n",
              "    .colab-df-convert:hover {\n",
              "      background-color: #E2EBFA;\n",
              "      box-shadow: 0px 1px 2px rgba(60, 64, 67, 0.3), 0px 1px 3px 1px rgba(60, 64, 67, 0.15);\n",
              "      fill: #174EA6;\n",
              "    }\n",
              "\n",
              "    [theme=dark] .colab-df-convert {\n",
              "      background-color: #3B4455;\n",
              "      fill: #D2E3FC;\n",
              "    }\n",
              "\n",
              "    [theme=dark] .colab-df-convert:hover {\n",
              "      background-color: #434B5C;\n",
              "      box-shadow: 0px 1px 3px 1px rgba(0, 0, 0, 0.15);\n",
              "      filter: drop-shadow(0px 1px 2px rgba(0, 0, 0, 0.3));\n",
              "      fill: #FFFFFF;\n",
              "    }\n",
              "  </style>\n",
              "\n",
              "      <script>\n",
              "        const buttonEl =\n",
              "          document.querySelector('#df-9853067f-ae0b-4f4f-8490-f8074377c842 button.colab-df-convert');\n",
              "        buttonEl.style.display =\n",
              "          google.colab.kernel.accessAllowed ? 'block' : 'none';\n",
              "\n",
              "        async function convertToInteractive(key) {\n",
              "          const element = document.querySelector('#df-9853067f-ae0b-4f4f-8490-f8074377c842');\n",
              "          const dataTable =\n",
              "            await google.colab.kernel.invokeFunction('convertToInteractive',\n",
              "                                                     [key], {});\n",
              "          if (!dataTable) return;\n",
              "\n",
              "          const docLinkHtml = 'Like what you see? Visit the ' +\n",
              "            '<a target=\"_blank\" href=https://colab.research.google.com/notebooks/data_table.ipynb>data table notebook</a>'\n",
              "            + ' to learn more about interactive tables.';\n",
              "          element.innerHTML = '';\n",
              "          dataTable['output_type'] = 'display_data';\n",
              "          await google.colab.output.renderOutput(dataTable, element);\n",
              "          const docLink = document.createElement('div');\n",
              "          docLink.innerHTML = docLinkHtml;\n",
              "          element.appendChild(docLink);\n",
              "        }\n",
              "      </script>\n",
              "    </div>\n",
              "  </div>\n",
              "  "
            ]
          },
          "metadata": {},
          "execution_count": 6
        }
      ]
    },
    {
      "cell_type": "code",
      "source": [
        "data[data.source == files[4]]"
      ],
      "metadata": {
        "colab": {
          "base_uri": "https://localhost:8080/",
          "height": 357
        },
        "id": "gKfGS7YDDzY_",
        "outputId": "58661cd3-c242-4bc2-c416-545f271a5b11"
      },
      "execution_count": 7,
      "outputs": [
        {
          "output_type": "execute_result",
          "data": {
            "text/plain": [
              "          rel_type head_ent tail_ent      head_ent_span  \\\n",
              "26  Has_multiplier       T3       T2  Measurement 43 50   \n",
              "27    Has_temporal       T1       T4    Condition 11 24   \n",
              "28             AND       T1       T3    Condition 11 24   \n",
              "29    Has_temporal       T8       T9       Drug 246 272   \n",
              "30   Has_qualifier      T11      T10       Drug 327 345   \n",
              "\n",
              "                  head_ent_txt      tail_ent_span           tail_ent_txt  \\\n",
              "26                     culture   Multiplier 37 42                  three   \n",
              "27               recurrent UTI     Temporal 63 84  within last 12 months   \n",
              "28               recurrent UTI  Measurement 43 50                culture   \n",
              "29  anticholinergic medication   Temporal 280 292           last 2 month   \n",
              "30          onabotulinumtoxinA  Qualifier 304 321      bladder injection   \n",
              "\n",
              "   head_ent_type  hspan_start  hspan_end tail_ent_type  tspan_start  \\\n",
              "26   Measurement         43.0       50.0    Multiplier         37.0   \n",
              "27     Condition         11.0       24.0      Temporal         63.0   \n",
              "28     Condition         11.0       24.0   Measurement         43.0   \n",
              "29          Drug        246.0      272.0      Temporal        280.0   \n",
              "30          Drug        327.0      345.0     Qualifier        304.0   \n",
              "\n",
              "    tspan_end               source  trem_idx_start  trem_idx_end  \\\n",
              "26       42.0  NCT02678377_exc.ann             NaN           NaN   \n",
              "27       84.0  NCT02678377_exc.ann             NaN           NaN   \n",
              "28       50.0  NCT02678377_exc.ann             NaN           NaN   \n",
              "29      292.0  NCT02678377_exc.ann             NaN           NaN   \n",
              "30      321.0  NCT02678377_exc.ann             NaN           NaN   \n",
              "\n",
              "    hrem_idx_start  hrem_idx_end  \n",
              "26             NaN           NaN  \n",
              "27             NaN           NaN  \n",
              "28             NaN           NaN  \n",
              "29             NaN           NaN  \n",
              "30             NaN           NaN  "
            ],
            "text/html": [
              "\n",
              "  <div id=\"df-785bed7f-5bb3-4942-b65a-ac1f4b678276\">\n",
              "    <div class=\"colab-df-container\">\n",
              "      <div>\n",
              "<style scoped>\n",
              "    .dataframe tbody tr th:only-of-type {\n",
              "        vertical-align: middle;\n",
              "    }\n",
              "\n",
              "    .dataframe tbody tr th {\n",
              "        vertical-align: top;\n",
              "    }\n",
              "\n",
              "    .dataframe thead th {\n",
              "        text-align: right;\n",
              "    }\n",
              "</style>\n",
              "<table border=\"1\" class=\"dataframe\">\n",
              "  <thead>\n",
              "    <tr style=\"text-align: right;\">\n",
              "      <th></th>\n",
              "      <th>rel_type</th>\n",
              "      <th>head_ent</th>\n",
              "      <th>tail_ent</th>\n",
              "      <th>head_ent_span</th>\n",
              "      <th>head_ent_txt</th>\n",
              "      <th>tail_ent_span</th>\n",
              "      <th>tail_ent_txt</th>\n",
              "      <th>head_ent_type</th>\n",
              "      <th>hspan_start</th>\n",
              "      <th>hspan_end</th>\n",
              "      <th>tail_ent_type</th>\n",
              "      <th>tspan_start</th>\n",
              "      <th>tspan_end</th>\n",
              "      <th>source</th>\n",
              "      <th>trem_idx_start</th>\n",
              "      <th>trem_idx_end</th>\n",
              "      <th>hrem_idx_start</th>\n",
              "      <th>hrem_idx_end</th>\n",
              "    </tr>\n",
              "  </thead>\n",
              "  <tbody>\n",
              "    <tr>\n",
              "      <th>26</th>\n",
              "      <td>Has_multiplier</td>\n",
              "      <td>T3</td>\n",
              "      <td>T2</td>\n",
              "      <td>Measurement 43 50</td>\n",
              "      <td>culture</td>\n",
              "      <td>Multiplier 37 42</td>\n",
              "      <td>three</td>\n",
              "      <td>Measurement</td>\n",
              "      <td>43.0</td>\n",
              "      <td>50.0</td>\n",
              "      <td>Multiplier</td>\n",
              "      <td>37.0</td>\n",
              "      <td>42.0</td>\n",
              "      <td>NCT02678377_exc.ann</td>\n",
              "      <td>NaN</td>\n",
              "      <td>NaN</td>\n",
              "      <td>NaN</td>\n",
              "      <td>NaN</td>\n",
              "    </tr>\n",
              "    <tr>\n",
              "      <th>27</th>\n",
              "      <td>Has_temporal</td>\n",
              "      <td>T1</td>\n",
              "      <td>T4</td>\n",
              "      <td>Condition 11 24</td>\n",
              "      <td>recurrent UTI</td>\n",
              "      <td>Temporal 63 84</td>\n",
              "      <td>within last 12 months</td>\n",
              "      <td>Condition</td>\n",
              "      <td>11.0</td>\n",
              "      <td>24.0</td>\n",
              "      <td>Temporal</td>\n",
              "      <td>63.0</td>\n",
              "      <td>84.0</td>\n",
              "      <td>NCT02678377_exc.ann</td>\n",
              "      <td>NaN</td>\n",
              "      <td>NaN</td>\n",
              "      <td>NaN</td>\n",
              "      <td>NaN</td>\n",
              "    </tr>\n",
              "    <tr>\n",
              "      <th>28</th>\n",
              "      <td>AND</td>\n",
              "      <td>T1</td>\n",
              "      <td>T3</td>\n",
              "      <td>Condition 11 24</td>\n",
              "      <td>recurrent UTI</td>\n",
              "      <td>Measurement 43 50</td>\n",
              "      <td>culture</td>\n",
              "      <td>Condition</td>\n",
              "      <td>11.0</td>\n",
              "      <td>24.0</td>\n",
              "      <td>Measurement</td>\n",
              "      <td>43.0</td>\n",
              "      <td>50.0</td>\n",
              "      <td>NCT02678377_exc.ann</td>\n",
              "      <td>NaN</td>\n",
              "      <td>NaN</td>\n",
              "      <td>NaN</td>\n",
              "      <td>NaN</td>\n",
              "    </tr>\n",
              "    <tr>\n",
              "      <th>29</th>\n",
              "      <td>Has_temporal</td>\n",
              "      <td>T8</td>\n",
              "      <td>T9</td>\n",
              "      <td>Drug 246 272</td>\n",
              "      <td>anticholinergic medication</td>\n",
              "      <td>Temporal 280 292</td>\n",
              "      <td>last 2 month</td>\n",
              "      <td>Drug</td>\n",
              "      <td>246.0</td>\n",
              "      <td>272.0</td>\n",
              "      <td>Temporal</td>\n",
              "      <td>280.0</td>\n",
              "      <td>292.0</td>\n",
              "      <td>NCT02678377_exc.ann</td>\n",
              "      <td>NaN</td>\n",
              "      <td>NaN</td>\n",
              "      <td>NaN</td>\n",
              "      <td>NaN</td>\n",
              "    </tr>\n",
              "    <tr>\n",
              "      <th>30</th>\n",
              "      <td>Has_qualifier</td>\n",
              "      <td>T11</td>\n",
              "      <td>T10</td>\n",
              "      <td>Drug 327 345</td>\n",
              "      <td>onabotulinumtoxinA</td>\n",
              "      <td>Qualifier 304 321</td>\n",
              "      <td>bladder injection</td>\n",
              "      <td>Drug</td>\n",
              "      <td>327.0</td>\n",
              "      <td>345.0</td>\n",
              "      <td>Qualifier</td>\n",
              "      <td>304.0</td>\n",
              "      <td>321.0</td>\n",
              "      <td>NCT02678377_exc.ann</td>\n",
              "      <td>NaN</td>\n",
              "      <td>NaN</td>\n",
              "      <td>NaN</td>\n",
              "      <td>NaN</td>\n",
              "    </tr>\n",
              "  </tbody>\n",
              "</table>\n",
              "</div>\n",
              "      <button class=\"colab-df-convert\" onclick=\"convertToInteractive('df-785bed7f-5bb3-4942-b65a-ac1f4b678276')\"\n",
              "              title=\"Convert this dataframe to an interactive table.\"\n",
              "              style=\"display:none;\">\n",
              "        \n",
              "  <svg xmlns=\"http://www.w3.org/2000/svg\" height=\"24px\"viewBox=\"0 0 24 24\"\n",
              "       width=\"24px\">\n",
              "    <path d=\"M0 0h24v24H0V0z\" fill=\"none\"/>\n",
              "    <path d=\"M18.56 5.44l.94 2.06.94-2.06 2.06-.94-2.06-.94-.94-2.06-.94 2.06-2.06.94zm-11 1L8.5 8.5l.94-2.06 2.06-.94-2.06-.94L8.5 2.5l-.94 2.06-2.06.94zm10 10l.94 2.06.94-2.06 2.06-.94-2.06-.94-.94-2.06-.94 2.06-2.06.94z\"/><path d=\"M17.41 7.96l-1.37-1.37c-.4-.4-.92-.59-1.43-.59-.52 0-1.04.2-1.43.59L10.3 9.45l-7.72 7.72c-.78.78-.78 2.05 0 2.83L4 21.41c.39.39.9.59 1.41.59.51 0 1.02-.2 1.41-.59l7.78-7.78 2.81-2.81c.8-.78.8-2.07 0-2.86zM5.41 20L4 18.59l7.72-7.72 1.47 1.35L5.41 20z\"/>\n",
              "  </svg>\n",
              "      </button>\n",
              "      \n",
              "  <style>\n",
              "    .colab-df-container {\n",
              "      display:flex;\n",
              "      flex-wrap:wrap;\n",
              "      gap: 12px;\n",
              "    }\n",
              "\n",
              "    .colab-df-convert {\n",
              "      background-color: #E8F0FE;\n",
              "      border: none;\n",
              "      border-radius: 50%;\n",
              "      cursor: pointer;\n",
              "      display: none;\n",
              "      fill: #1967D2;\n",
              "      height: 32px;\n",
              "      padding: 0 0 0 0;\n",
              "      width: 32px;\n",
              "    }\n",
              "\n",
              "    .colab-df-convert:hover {\n",
              "      background-color: #E2EBFA;\n",
              "      box-shadow: 0px 1px 2px rgba(60, 64, 67, 0.3), 0px 1px 3px 1px rgba(60, 64, 67, 0.15);\n",
              "      fill: #174EA6;\n",
              "    }\n",
              "\n",
              "    [theme=dark] .colab-df-convert {\n",
              "      background-color: #3B4455;\n",
              "      fill: #D2E3FC;\n",
              "    }\n",
              "\n",
              "    [theme=dark] .colab-df-convert:hover {\n",
              "      background-color: #434B5C;\n",
              "      box-shadow: 0px 1px 3px 1px rgba(0, 0, 0, 0.15);\n",
              "      filter: drop-shadow(0px 1px 2px rgba(0, 0, 0, 0.3));\n",
              "      fill: #FFFFFF;\n",
              "    }\n",
              "  </style>\n",
              "\n",
              "      <script>\n",
              "        const buttonEl =\n",
              "          document.querySelector('#df-785bed7f-5bb3-4942-b65a-ac1f4b678276 button.colab-df-convert');\n",
              "        buttonEl.style.display =\n",
              "          google.colab.kernel.accessAllowed ? 'block' : 'none';\n",
              "\n",
              "        async function convertToInteractive(key) {\n",
              "          const element = document.querySelector('#df-785bed7f-5bb3-4942-b65a-ac1f4b678276');\n",
              "          const dataTable =\n",
              "            await google.colab.kernel.invokeFunction('convertToInteractive',\n",
              "                                                     [key], {});\n",
              "          if (!dataTable) return;\n",
              "\n",
              "          const docLinkHtml = 'Like what you see? Visit the ' +\n",
              "            '<a target=\"_blank\" href=https://colab.research.google.com/notebooks/data_table.ipynb>data table notebook</a>'\n",
              "            + ' to learn more about interactive tables.';\n",
              "          element.innerHTML = '';\n",
              "          dataTable['output_type'] = 'display_data';\n",
              "          await google.colab.output.renderOutput(dataTable, element);\n",
              "          const docLink = document.createElement('div');\n",
              "          docLink.innerHTML = docLinkHtml;\n",
              "          element.appendChild(docLink);\n",
              "        }\n",
              "      </script>\n",
              "    </div>\n",
              "  </div>\n",
              "  "
            ]
          },
          "metadata": {},
          "execution_count": 7
        }
      ]
    },
    {
      "cell_type": "code",
      "source": [
        "import spacy\n",
        "from spacy.tokens import DocBin\n",
        "import random, math\n",
        "from spacy.util import filter_spans\n"
      ],
      "metadata": {
        "id": "yxzCr3yLaFb0"
      },
      "execution_count": 8,
      "outputs": []
    },
    {
      "cell_type": "code",
      "source": [
        "#vars\n",
        "IGNORE_VARS = [\"AND\",\"OR\"]"
      ],
      "metadata": {
        "id": "eIAQLeIfaKnU"
      },
      "execution_count": 19,
      "outputs": []
    },
    {
      "cell_type": "code",
      "source": [
        "data = data[[\"rel_type\",\"head_ent\",\"tail_ent\",\"head_ent_span\",\"head_ent_txt\",\"tail_ent_span\",\"tail_ent_txt\",\"head_ent_type\",\"tail_ent_type\",\"source\"]]"
      ],
      "metadata": {
        "id": "1U5AVuod0udR"
      },
      "execution_count": 9,
      "outputs": []
    },
    {
      "cell_type": "code",
      "source": [],
      "metadata": {
        "id": "3eYaBe73KWj3"
      },
      "execution_count": null,
      "outputs": []
    },
    {
      "cell_type": "code",
      "source": [
        "clean_data = data.dropna()"
      ],
      "metadata": {
        "id": "ouJDqabk1hh1"
      },
      "execution_count": 10,
      "outputs": []
    },
    {
      "cell_type": "code",
      "source": [
        "relations = list(clean_data.rel_type.value_counts().head(6).index)\n",
        "#removing equivalence relations\n",
        "for x in relations:\n",
        "  if x in IGNORE_VARS:\n",
        "    relations.pop(relations.index(x))\n"
      ],
      "metadata": {
        "id": "_MO8cLQ-VOLB"
      },
      "execution_count": 21,
      "outputs": []
    },
    {
      "cell_type": "code",
      "source": [
        "relations"
      ],
      "metadata": {
        "colab": {
          "base_uri": "https://localhost:8080/"
        },
        "id": "sPQyI9ndKnEH",
        "outputId": "e5e7b0cf-c6b1-4446-a4cb-fb3959c0969f"
      },
      "execution_count": 22,
      "outputs": [
        {
          "output_type": "execute_result",
          "data": {
            "text/plain": [
              "['Has_value', 'Has_temporal', 'Has_qualifier', 'Subsumes', 'Has_scope']"
            ]
          },
          "metadata": {},
          "execution_count": 22
        }
      ]
    },
    {
      "cell_type": "code",
      "source": [
        "clean_data.rel_type.value_counts().head(11)"
      ],
      "metadata": {
        "colab": {
          "base_uri": "https://localhost:8080/"
        },
        "id": "dEL7cgczVS5n",
        "outputId": "d371c0b6-35ee-446f-c6d6-b275ccb04738"
      },
      "execution_count": 23,
      "outputs": [
        {
          "output_type": "execute_result",
          "data": {
            "text/plain": [
              "Has_value         3643\n",
              "Has_temporal      3091\n",
              "Has_qualifier     3040\n",
              "AND               2664\n",
              "Subsumes          1874\n",
              "Has_scope         1513\n",
              "OR                1109\n",
              "Has_negation       829\n",
              "Has_index          829\n",
              "Has_multiplier     601\n",
              "multi              502\n",
              "Name: rel_type, dtype: int64"
            ]
          },
          "metadata": {},
          "execution_count": 23
        }
      ]
    },
    {
      "cell_type": "code",
      "source": [
        "clean_data.info()"
      ],
      "metadata": {
        "colab": {
          "base_uri": "https://localhost:8080/"
        },
        "id": "w_aZ2THuPU-w",
        "outputId": "aba689e9-46c4-4967-b86c-f87fee975851"
      },
      "execution_count": 24,
      "outputs": [
        {
          "output_type": "stream",
          "name": "stdout",
          "text": [
            "<class 'pandas.core.frame.DataFrame'>\n",
            "Int64Index: 20405 entries, 0 to 20744\n",
            "Data columns (total 10 columns):\n",
            " #   Column         Non-Null Count  Dtype \n",
            "---  ------         --------------  ----- \n",
            " 0   rel_type       20405 non-null  object\n",
            " 1   head_ent       20405 non-null  object\n",
            " 2   tail_ent       20405 non-null  object\n",
            " 3   head_ent_span  20405 non-null  object\n",
            " 4   head_ent_txt   20405 non-null  object\n",
            " 5   tail_ent_span  20405 non-null  object\n",
            " 6   tail_ent_txt   20405 non-null  object\n",
            " 7   head_ent_type  20405 non-null  object\n",
            " 8   tail_ent_type  20405 non-null  object\n",
            " 9   source         20405 non-null  object\n",
            "dtypes: object(10)\n",
            "memory usage: 1.7+ MB\n"
          ]
        }
      ]
    },
    {
      "cell_type": "code",
      "source": [
        "nlp = spacy.blank(\"en\")\n",
        "doc_bin = DocBin(store_user_data=True)\n",
        "rel_count=0\n",
        "ent_count = 0\n",
        "for single_file in files:\n",
        "  dummy_data = clean_data[clean_data.source == single_file]\n",
        "  base_file = single_file[:-4]\n",
        "\n",
        "  ent_dict = {}\n",
        "  span_start = {}\n",
        "  # print(total_ent)\n",
        "  # with open(\"/content/chia/\"+base_file+\".ann\") as f:\n",
        "  #   print(f.read())\n",
        "  # base_file = \"NCT00894712_inc\"\n",
        "  with open(\"/content/chia/\"+base_file+\".txt\") as f:\n",
        "    # print(f.read())\n",
        "    #reading the doc text\n",
        "    doc_text = f.read()\n",
        "    doc = nlp(doc_text)\n",
        "    doc.set_extension(\"rel\",default={},force=True)\n",
        "    # print(doc.text)\n",
        "    span_list = []\n",
        "   \n",
        "    for idx,row in dummy_data.iterrows():\n",
        "      if row.head_ent_txt not in ent_dict:\n",
        "        head_arr = row.head_ent_span.split(\" \")\n",
        "     \n",
        "        head_type = head_arr[0]\n",
        "        head_text = row.head_ent_txt\n",
        "        correct_start = doc_text.find(head_text)\n",
        "        correct_end = correct_start + len(head_text)\n",
        "        span = doc.char_span(correct_start,correct_end,head_type)\n",
        "        ent_dict[row.head_ent_txt] = head_text\n",
        "        if(span!=None):\n",
        "          span_list.append(span)\n",
        "        # print(head_start,head_end,head_type,head_text,doc_text[correct_start:correct_end],row.head_ent)\n",
        "      if row.tail_ent_txt not in ent_dict:\n",
        "        tail_arr = row.tail_ent_span.split(\" \")\n",
        "        \n",
        "        tail_type = tail_arr[0]\n",
        "        tail_text = row.tail_ent_txt\n",
        "        correct_start = doc_text.find(tail_text)\n",
        "        # print(tail_text)\n",
        "        correct_end = correct_start + len(tail_text)\n",
        "        span = doc.char_span(correct_start,correct_end,tail_type)\n",
        "        ent_dict[row.tail_ent] = tail_text\n",
        "        if(span!=None):\n",
        "          \n",
        "          span_list.append(span)\n",
        "        \n",
        "        \n",
        "\n",
        "        # print(tail_start,tail_end,tail_type,tail_text,doc_text[correct_start:correct_end],row.tail_ent)\n",
        "    \n",
        "    filtered = filter_spans(span_list)\n",
        "    ent_count+=len(filtered)\n",
        "    doc.set_ents(filtered)\n",
        "    span_trial = {}\n",
        "    for x in doc.ents:\n",
        "      span_trial[x.text] = x.start\n",
        "    # print(span_trial)\n",
        "    span_start_ = [x.text for x in filtered]\n",
        "    \n",
        "    rel_dict = {}\n",
        "\n",
        "    for x1 in span_trial.values():\n",
        "      for x2 in span_trial.values():\n",
        "        rel_dict[(x1, x2)] = {}\n",
        "    # print(rel_dict) \n",
        "    for idx,row in dummy_data.iterrows():\n",
        "      if row.head_ent_txt in span_start_ and row.tail_ent_txt in span_start_:  \n",
        "        start = span_trial[row.head_ent_txt]\n",
        "        end = span_trial[row.tail_ent_txt]\n",
        "        label = row.rel_type\n",
        "        if label not in rel_dict[(start, end)] and label in relations:\n",
        "          rel_dict[(start, end)][label] = 1.0\n",
        "          rel_count+=1\n",
        "    for x1 in span_trial.values():\n",
        "      for x2 in span_trial.values():\n",
        "        for label in relations:\n",
        "          if label not in rel_dict[(x1, x2)]:\n",
        "            rel_dict[(x1, x2)][label] = 0.0\n",
        "          \n",
        "\n",
        "    doc._.rel = rel_dict\n",
        "    doc_bin.add(doc)\n",
        "    \n",
        "\n",
        "      \n",
        "print(rel_count)\n",
        "print(ent_count)\n",
        "print(len(doc_bin))\n"
      ],
      "metadata": {
        "colab": {
          "base_uri": "https://localhost:8080/"
        },
        "id": "CADmJ67sD3PC",
        "outputId": "2d57bed7-62e7-4dbe-cf0b-9fd2b97c017c"
      },
      "execution_count": 27,
      "outputs": [
        {
          "output_type": "stream",
          "name": "stdout",
          "text": [
            "9768\n",
            "22951\n",
            "1887\n"
          ]
        }
      ]
    },
    {
      "cell_type": "code",
      "source": [
        "print(rel_dict)"
      ],
      "metadata": {
        "colab": {
          "base_uri": "https://localhost:8080/"
        },
        "id": "vTwZQ8E1HMBM",
        "outputId": "51e05da6-11ee-4830-8495-ef9fe970e1ac"
      },
      "execution_count": 28,
      "outputs": [
        {
          "output_type": "stream",
          "name": "stdout",
          "text": [
            "{(2, 4): {'Has_scope': 1.0, 'Has_value': 0.0, 'Has_temporal': 0.0, 'Has_qualifier': 0.0, 'Subsumes': 0.0}, (25, 30): {'Subsumes': 1.0, 'Has_value': 0.0, 'Has_temporal': 0.0, 'Has_qualifier': 0.0, 'Has_scope': 0.0}, (56, 61): {'Subsumes': 1.0, 'Has_value': 0.0, 'Has_temporal': 0.0, 'Has_qualifier': 0.0, 'Has_scope': 0.0}, (69, 73): {'Has_temporal': 1.0, 'Has_value': 0.0, 'Has_qualifier': 0.0, 'Subsumes': 0.0, 'Has_scope': 0.0}}\n"
          ]
        }
      ]
    },
    {
      "cell_type": "code",
      "source": [
        "print(len(rel_dict))"
      ],
      "metadata": {
        "colab": {
          "base_uri": "https://localhost:8080/"
        },
        "id": "Be2UKttBHH42",
        "outputId": "304ba659-d21a-42f8-c380-b5a4342b62bb"
      },
      "execution_count": 87,
      "outputs": [
        {
          "output_type": "stream",
          "name": "stdout",
          "text": [
            "196\n"
          ]
        }
      ]
    },
    {
      "cell_type": "code",
      "source": [
        "doc_bin.to_disk(f\"/content/chia_rel_5_no_0.spacy\")"
      ],
      "metadata": {
        "id": "lfSuyp4i25I0"
      },
      "execution_count": 29,
      "outputs": []
    },
    {
      "cell_type": "code",
      "source": [],
      "metadata": {
        "id": "3FWSyQqk2_Dg"
      },
      "execution_count": null,
      "outputs": []
    },
    {
      "cell_type": "code",
      "source": [
        "doc._.rel"
      ],
      "metadata": {
        "id": "UzY6BIbZvFsN"
      },
      "execution_count": null,
      "outputs": []
    },
    {
      "cell_type": "code",
      "source": [],
      "metadata": {
        "id": "NSknG31PfiBR"
      },
      "execution_count": null,
      "outputs": []
    },
    {
      "cell_type": "code",
      "source": [],
      "metadata": {
        "id": "VrUK4mc-fh-a"
      },
      "execution_count": null,
      "outputs": []
    },
    {
      "cell_type": "code",
      "source": [
        "test_bin = DocBin()\n",
        "test_bin.from_disk(\"/content/chia_rel_5_no_0.spacy\")"
      ],
      "metadata": {
        "colab": {
          "base_uri": "https://localhost:8080/"
        },
        "id": "GwnT-UQgfh7j",
        "outputId": "f25e23cd-fbd0-40d0-e2b7-4ceb962a5fc1"
      },
      "execution_count": 30,
      "outputs": [
        {
          "output_type": "execute_result",
          "data": {
            "text/plain": [
              "<spacy.tokens._serialize.DocBin at 0x7f4b78acdad0>"
            ]
          },
          "metadata": {},
          "execution_count": 30
        }
      ]
    },
    {
      "cell_type": "code",
      "source": [],
      "metadata": {
        "id": "VO-fjISIJNm7"
      },
      "execution_count": 182,
      "outputs": []
    },
    {
      "cell_type": "code",
      "source": [
        "docs = list(test_bin.get_docs(nlp.vocab))"
      ],
      "metadata": {
        "id": "mrR1vrijfh47"
      },
      "execution_count": 31,
      "outputs": []
    },
    {
      "cell_type": "code",
      "source": [
        "for ent in docs[0].ents:\n",
        "  print(ent.start , ent.text)"
      ],
      "metadata": {
        "colab": {
          "base_uri": "https://localhost:8080/"
        },
        "id": "XZjXfEWeJQVd",
        "outputId": "18c96300-dce9-4578-aac8-4fd106b9aff9"
      },
      "execution_count": 32,
      "outputs": [
        {
          "output_type": "stream",
          "name": "stdout",
          "text": [
            "2 pathologically\n",
            "3 confirmed\n",
            "4 invasive adenocarcinoma\n",
            "7 ductal carcinoma in situ\n",
            "11 of the breast\n",
            "20 segmental mastectomy\n",
            "25 lumpectomy\n",
            "31 not\n",
            "35 radiation therapy\n",
            "46 active\n",
            "47 local-regional disease\n"
          ]
        }
      ]
    },
    {
      "cell_type": "code",
      "source": [
        "doc_test = docs[0]"
      ],
      "metadata": {
        "id": "54YhHP79lpQm"
      },
      "execution_count": 185,
      "outputs": []
    },
    {
      "cell_type": "code",
      "source": [
        "for i in doc_test.ents:\n",
        "  print(i.start)"
      ],
      "metadata": {
        "colab": {
          "base_uri": "https://localhost:8080/"
        },
        "id": "ZFhibG9RlqLR",
        "outputId": "ecb073d2-4648-42cb-bf66-00381993b3a2"
      },
      "execution_count": 189,
      "outputs": [
        {
          "output_type": "stream",
          "name": "stdout",
          "text": [
            "2\n",
            "3\n",
            "4\n",
            "7\n",
            "11\n",
            "20\n",
            "25\n",
            "31\n",
            "35\n",
            "46\n",
            "47\n"
          ]
        }
      ]
    },
    {
      "cell_type": "code",
      "source": [
        "doc_test._.rel"
      ],
      "metadata": {
        "id": "gHEsFhFtl3qN"
      },
      "execution_count": null,
      "outputs": []
    },
    {
      "cell_type": "code",
      "source": [
        "from sklearn.model_selection import train_test_split\n",
        "\n",
        "# you can add random state to preserve the split each time.\n",
        "train_docs, dev_docs = train_test_split(docs, test_size=0.2)\n",
        "# dev_docs, test_docs = train_test_split(test_docs, test_size=0.5)"
      ],
      "metadata": {
        "id": "agQ3fxJG9IiW"
      },
      "execution_count": 33,
      "outputs": []
    },
    {
      "cell_type": "code",
      "source": [
        "train_doc_bin = DocBin(store_user_data=True)\n",
        "for train_doc in train_docs:\n",
        "    train_doc_bin.add(train_doc)\n",
        "train_doc_bin.to_disk(\"./chia_rel_train_5_no_zero.spacy\")\n",
        "\n",
        "dev_doc_bin = DocBin(store_user_data=True)\n",
        "for dev_doc in dev_docs:\n",
        "    dev_doc_bin.add(dev_doc)\n",
        "dev_doc_bin.to_disk(\"./chia_rel_dev_5_no_zero.spacy\")"
      ],
      "metadata": {
        "id": "X1Cfo0AR9KI7"
      },
      "execution_count": 35,
      "outputs": []
    },
    {
      "cell_type": "code",
      "source": [],
      "metadata": {
        "id": "AppICKZzZoiH"
      },
      "execution_count": null,
      "outputs": []
    },
    {
      "cell_type": "code",
      "source": [
        "docs[7]._.rel"
      ],
      "metadata": {
        "id": "yrmP57Wzfh2E"
      },
      "execution_count": null,
      "outputs": []
    },
    {
      "cell_type": "code",
      "source": [],
      "metadata": {
        "id": "lj22hwEvfhzR"
      },
      "execution_count": null,
      "outputs": []
    },
    {
      "cell_type": "code",
      "source": [
        "doc_bin = DocBin()\n",
        "doc_bin.from_disk(\"/content/chia_rel_full.spacy\")"
      ],
      "metadata": {
        "colab": {
          "base_uri": "https://localhost:8080/"
        },
        "id": "-l8oQDdaMMrs",
        "outputId": "d52eb149-9b04-4ebe-ddac-95b1ff587609"
      },
      "execution_count": 12,
      "outputs": [
        {
          "output_type": "execute_result",
          "data": {
            "text/plain": [
              "<spacy.tokens._serialize.DocBin at 0x7fd55a13c490>"
            ]
          },
          "metadata": {},
          "execution_count": 12
        }
      ]
    },
    {
      "cell_type": "code",
      "source": [
        "doc"
      ],
      "metadata": {
        "id": "dRV0HeciO1cB"
      },
      "execution_count": 12,
      "outputs": []
    },
    {
      "cell_type": "code",
      "source": [
        "docs = list(doc_bin.get_docs(nlp.vocab))"
      ],
      "metadata": {
        "id": "gXNN1WkmID1u"
      },
      "execution_count": 13,
      "outputs": []
    },
    {
      "cell_type": "code",
      "source": [
        "vars(docs[0]._)"
      ],
      "metadata": {
        "colab": {
          "base_uri": "https://localhost:8080/"
        },
        "id": "YEoobrJaiR8a",
        "outputId": "23d5cfe4-c062-4236-d5c2-65cb4875efe6"
      },
      "execution_count": 16,
      "outputs": [
        {
          "output_type": "execute_result",
          "data": {
            "text/plain": [
              "{'_extensions': {},\n",
              " '_obj': Must have pathologically confirmed invasive adenocarcinoma or ductal carcinoma in situ of the breast. \n",
              " Patients must have undergone segmental mastectomy (i.e., lumpectomy). \n",
              " Patients must not have received prior radiation therapy to the breast. \n",
              " Patients must not have active local-regional disease prior to registration. \n",
              " Patients must not be pregnant because of the potential for fetal harm as a result of radiation treatment. Women of child-bearing age will be given a serum pregnancy test prior to study entry to ensure they are not pregnant. They will also be counseled on the importance of avoiding pregnancy and hormonal contraception while undergoing radiation therapy. \n",
              " Patients must not have a serious medical or psychiatric illness which prevents informed consent or compliance with treatment. \n",
              " All patients must be informed of the investigational nature of this study and give written informed consent in accordance with institutional and federal guidelines. ,\n",
              " '_doc': Must have pathologically confirmed invasive adenocarcinoma or ductal carcinoma in situ of the breast. \n",
              " Patients must have undergone segmental mastectomy (i.e., lumpectomy). \n",
              " Patients must not have received prior radiation therapy to the breast. \n",
              " Patients must not have active local-regional disease prior to registration. \n",
              " Patients must not be pregnant because of the potential for fetal harm as a result of radiation treatment. Women of child-bearing age will be given a serum pregnancy test prior to study entry to ensure they are not pregnant. They will also be counseled on the importance of avoiding pregnancy and hormonal contraception while undergoing radiation therapy. \n",
              " Patients must not have a serious medical or psychiatric illness which prevents informed consent or compliance with treatment. \n",
              " All patients must be informed of the investigational nature of this study and give written informed consent in accordance with institutional and federal guidelines. ,\n",
              " '_start': None,\n",
              " '_end': None}"
            ]
          },
          "metadata": {},
          "execution_count": 16
        }
      ]
    },
    {
      "cell_type": "code",
      "source": [
        "print(docs[0].get_extension(\"rel\"))"
      ],
      "metadata": {
        "colab": {
          "base_uri": "https://localhost:8080/"
        },
        "id": "ToJ4_7giIG4j",
        "outputId": "b031e1c0-bb7f-4edd-8990-e9f63ae6b0f8"
      },
      "execution_count": 14,
      "outputs": [
        {
          "output_type": "stream",
          "name": "stdout",
          "text": [
            "None\n"
          ]
        }
      ]
    },
    {
      "cell_type": "code",
      "source": [
        "docs[1]"
      ],
      "metadata": {
        "colab": {
          "base_uri": "https://localhost:8080/"
        },
        "id": "jbAEZ0nuIIXN",
        "outputId": "74ffb187-34c0-4c29-9350-f1a2d508685f"
      },
      "execution_count": 62,
      "outputs": [
        {
          "output_type": "execute_result",
          "data": {
            "text/plain": [
              "10+ years of software engineering work experience. Technical experience in release automation engineering, CI/CD or related roles. Experience building and leading a software organization through product design, delivery and commercialization of consumer electronics devices. Experience recruiting and managing technical teams, including performance management. BS/MS in Computer Science. Experience in leading timeline, multi-partner initiatives. Organizational communication and coordination experience. PREFERRED 5+ years of experience with hands-on technical management, release engineering, tools engineering, DevOps, or related area."
            ]
          },
          "metadata": {},
          "execution_count": 62
        }
      ]
    },
    {
      "cell_type": "code",
      "source": [
        "vars(docs[1]._)\n"
      ],
      "metadata": {
        "colab": {
          "base_uri": "https://localhost:8080/"
        },
        "id": "jP0Ru-VFIM83",
        "outputId": "062f9f6d-62a3-4007-a010-974b1006eb59"
      },
      "execution_count": 63,
      "outputs": [
        {
          "output_type": "execute_result",
          "data": {
            "text/plain": [
              "{'_extensions': {},\n",
              " '_obj': 10+ years of software engineering work experience. Technical experience in release automation engineering, CI/CD or related roles. Experience building and leading a software organization through product design, delivery and commercialization of consumer electronics devices. Experience recruiting and managing technical teams, including performance management. BS/MS in Computer Science. Experience in leading timeline, multi-partner initiatives. Organizational communication and coordination experience. PREFERRED 5+ years of experience with hands-on technical management, release engineering, tools engineering, DevOps, or related area.,\n",
              " '_doc': 10+ years of software engineering work experience. Technical experience in release automation engineering, CI/CD or related roles. Experience building and leading a software organization through product design, delivery and commercialization of consumer electronics devices. Experience recruiting and managing technical teams, including performance management. BS/MS in Computer Science. Experience in leading timeline, multi-partner initiatives. Organizational communication and coordination experience. PREFERRED 5+ years of experience with hands-on technical management, release engineering, tools engineering, DevOps, or related area.,\n",
              " '_start': None,\n",
              " '_end': None}"
            ]
          },
          "metadata": {},
          "execution_count": 63
        }
      ]
    },
    {
      "cell_type": "code",
      "source": [
        "docs[1].token"
      ],
      "metadata": {
        "colab": {
          "base_uri": "https://localhost:8080/",
          "height": 165
        },
        "id": "P4GzZD3_KLK7",
        "outputId": "1e0394fb-03a3-4925-b4f9-7e8528d61991"
      },
      "execution_count": 64,
      "outputs": [
        {
          "output_type": "error",
          "ename": "AttributeError",
          "evalue": "ignored",
          "traceback": [
            "\u001b[0;31m---------------------------------------------------------------------------\u001b[0m",
            "\u001b[0;31mAttributeError\u001b[0m                            Traceback (most recent call last)",
            "\u001b[0;32m<ipython-input-64-fbc6bccb28e9>\u001b[0m in \u001b[0;36m<module>\u001b[0;34m\u001b[0m\n\u001b[0;32m----> 1\u001b[0;31m \u001b[0mdocs\u001b[0m\u001b[0;34m[\u001b[0m\u001b[0;36m1\u001b[0m\u001b[0;34m]\u001b[0m\u001b[0;34m.\u001b[0m\u001b[0mtoken\u001b[0m\u001b[0;34m\u001b[0m\u001b[0;34m\u001b[0m\u001b[0m\n\u001b[0m",
            "\u001b[0;31mAttributeError\u001b[0m: 'spacy.tokens.doc.Doc' object has no attribute 'token'"
          ]
        }
      ]
    },
    {
      "cell_type": "code",
      "source": [],
      "metadata": {
        "id": "G4lGYCTOKViB"
      },
      "execution_count": null,
      "outputs": []
    }
  ]
}