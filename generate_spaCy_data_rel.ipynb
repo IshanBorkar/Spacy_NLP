{
  "cells": [
    {
      "cell_type": "code",
      "source": [
        "from google.colab import drive\n",
        "drive.mount('/content/drive', force_remount=True)"
      ],
      "metadata": {
        "id": "krfmeEj31PHz"
      },
      "id": "krfmeEj31PHz",
      "execution_count": null,
      "outputs": []
    },
    {
      "cell_type": "code",
      "execution_count": null,
      "id": "280831b7-1ba4-45af-a961-304d278d1194",
      "metadata": {
        "id": "280831b7-1ba4-45af-a961-304d278d1194"
      },
      "outputs": [],
      "source": [
        "import spacy\n",
        "import pandas as pd\n",
        "import os, re, json\n",
        "from spacy.training import offsets_to_biluo_tags\n",
        "from spacy.tokens import Span\n",
        "from spacy.util import filter_spans\n",
        "from spacy.tokens import DocBin"
      ]
    },
    {
      "cell_type": "code",
      "execution_count": null,
      "id": "c1039c8b-73ca-4938-a507-38d5ee3f3037",
      "metadata": {
        "id": "c1039c8b-73ca-4938-a507-38d5ee3f3037",
        "outputId": "471ee6f1-f514-46f2-9161-64bd51ff4e66"
      },
      "outputs": [
        {
          "name": "stdout",
          "output_type": "stream",
          "text": [
            "Requirement already satisfied: pandas in c:\\users\\ishan_borker\\appdata\\roaming\\python\\python37\\site-packages (1.1.5)\n",
            "Requirement already satisfied: python-dateutil>=2.7.3 in c:\\users\\ishan_borker\\appdata\\roaming\\python\\python37\\site-packages (from pandas) (2.8.2)\n",
            "Requirement already satisfied: numpy>=1.15.4 in c:\\users\\ishan_borker\\appdata\\roaming\\python\\python37\\site-packages (from pandas) (1.21.6)\n",
            "Requirement already satisfied: pytz>=2017.2 in c:\\programdata\\anaconda3\\lib\\site-packages (from pandas) (2018.5)\n",
            "Requirement already satisfied: six>=1.5 in c:\\users\\ishan_borker\\appdata\\roaming\\python\\python37\\site-packages (from python-dateutil>=2.7.3->pandas) (1.16.0)\n"
          ]
        },
        {
          "name": "stderr",
          "output_type": "stream",
          "text": [
            "WARNING: Ignoring invalid distribution -xml (c:\\programdata\\anaconda3\\lib\\site-packages)\n",
            "WARNING: Ignoring invalid distribution -sgpack (c:\\programdata\\anaconda3\\lib\\site-packages)\n",
            "WARNING: Ignoring invalid distribution -raitlets (c:\\programdata\\anaconda3\\lib\\site-packages)\n",
            "WARNING: Ignoring invalid distribution -qdm (c:\\programdata\\anaconda3\\lib\\site-packages)\n",
            "WARNING: Ignoring invalid distribution - (c:\\programdata\\anaconda3\\lib\\site-packages)\n",
            "WARNING: Ignoring invalid distribution -xml (c:\\programdata\\anaconda3\\lib\\site-packages)\n",
            "WARNING: Ignoring invalid distribution -sgpack (c:\\programdata\\anaconda3\\lib\\site-packages)\n",
            "WARNING: Ignoring invalid distribution -raitlets (c:\\programdata\\anaconda3\\lib\\site-packages)\n",
            "WARNING: Ignoring invalid distribution -qdm (c:\\programdata\\anaconda3\\lib\\site-packages)\n",
            "WARNING: Ignoring invalid distribution - (c:\\programdata\\anaconda3\\lib\\site-packages)\n"
          ]
        }
      ],
      "source": [
        "!python -m pip install --upgrade --user pandas"
      ]
    },
    {
      "cell_type": "code",
      "execution_count": null,
      "id": "5b80fdca-8e7e-4d79-bec3-9f0335995721",
      "metadata": {
        "id": "5b80fdca-8e7e-4d79-bec3-9f0335995721",
        "outputId": "82e273bd-5f6a-4439-ca60-7c61c67c15b4"
      },
      "outputs": [
        {
          "name": "stdout",
          "output_type": "stream",
          "text": [
            "Name: pandas\n",
            "Version: 1.1.5\n",
            "Summary: Powerful data structures for data analysis, time series, and statistics\n",
            "Home-page: https://pandas.pydata.org\n",
            "Author: \n",
            "Author-email: \n",
            "License: BSD\n",
            "Location: c:\\users\\ishan_borker\\appdata\\roaming\\python\\python37\\site-packages\n",
            "Requires: numpy, python-dateutil, pytz\n",
            "Required-by: nlp, odo, seaborn\n"
          ]
        },
        {
          "name": "stderr",
          "output_type": "stream",
          "text": [
            "WARNING: pip is being invoked by an old script wrapper. This will fail in a future version of pip.\n",
            "Please see https://github.com/pypa/pip/issues/5599 for advice on fixing the underlying issue.\n",
            "To avoid this problem you can invoke Python with '-m pip' instead of running pip directly.\n",
            "WARNING: Ignoring invalid distribution -xml (c:\\programdata\\anaconda3\\lib\\site-packages)\n",
            "WARNING: Ignoring invalid distribution -sgpack (c:\\programdata\\anaconda3\\lib\\site-packages)\n",
            "WARNING: Ignoring invalid distribution -raitlets (c:\\programdata\\anaconda3\\lib\\site-packages)\n",
            "WARNING: Ignoring invalid distribution -qdm (c:\\programdata\\anaconda3\\lib\\site-packages)\n",
            "WARNING: Ignoring invalid distribution - (c:\\programdata\\anaconda3\\lib\\site-packages)\n"
          ]
        }
      ],
      "source": [
        "!pip show pandas"
      ]
    },
    {
      "cell_type": "code",
      "execution_count": null,
      "id": "7a3a167e-028c-4ac4-8bf2-e6088d35b72a",
      "metadata": {
        "id": "7a3a167e-028c-4ac4-8bf2-e6088d35b72a"
      },
      "outputs": [],
      "source": [
        "# nlp = spacy.load(\"en_core_web_trf\", disable=[\"ner\", \"tagger\", ])\n",
        "nlp = spacy.blank(\"en\")"
      ]
    },
    {
      "cell_type": "code",
      "execution_count": null,
      "id": "3d534970-a8a0-47dc-83e4-49c08e8e938f",
      "metadata": {
        "id": "3d534970-a8a0-47dc-83e4-49c08e8e938f"
      },
      "outputs": [],
      "source": [
        "def remove_trail(fname):\n",
        "    return fname.split(\".\")[0]\n",
        "\n",
        "def sanitize_txt_file(ehr_lines):\n",
        "    return \" \\n\".join([l.strip() for l in ehr_lines.split(\"\\n\")])"
      ]
    },
    {
      "cell_type": "code",
      "execution_count": null,
      "id": "0e2c728d-c058-41fb-ba08-6c690d839040",
      "metadata": {
        "id": "0e2c728d-c058-41fb-ba08-6c690d839040"
      },
      "outputs": [],
      "source": [
        "FILTER_DISCONTINOUS = True\n",
        "PROCESS_TOPN_ONLY = True\n",
        "TOP_N_ENTS = [\"Condition\", \"Scope\", \"Qualifier\", \"Value\", \"Drug\", \"Procedure\", \"Measurement\", \"Temporal\", \"Observation\", \"Person\"]\n",
        "\n",
        "\n",
        "df = pd.read_csv(\"/content/drive/MyDrive/chia_clinical_trials/chia_rel_dataset.tsv\", sep=\"\\t\", header=0)\n",
        "\n",
        "if FILTER_DISCONTINOUS:\n",
        "    df = df[df['hrem_idx_start'].isnull()]\n",
        "    df.drop(['hrem_idx_start', 'hrem_idx_end'], axis=1, inplace=True)\n",
        "    \n",
        "if PROCESS_TOPN_ONLY:\n",
        "    df = df[df['head_ent_type'].isin(TOP_N_ENTS)]\n",
        "    \n",
        "df['head_ent_type'] = df['head_ent_type'].apply(lambda x: x.upper())\n",
        "\n",
        "# apply_txt_patch()\n",
        "ehr_list = list(map(remove_trail, df[\"source\"].unique()))\n"
      ]
    },
    {
      "cell_type": "code",
      "execution_count": null,
      "id": "34b7d299-5e66-4452-8ba8-224a1fc51f6a",
      "metadata": {
        "id": "34b7d299-5e66-4452-8ba8-224a1fc51f6a",
        "outputId": "3ecbda32-a193-4e84-ea51-f396c51c8d73"
      },
      "outputs": [
        {
          "name": "stdout",
          "output_type": "stream",
          "text": [
            "'charmap' codec can't decode byte 0x81 in position 170: character maps to <undefined>\n",
            "succesfully processed 1885 files..\n",
            "Wall time: 13.9 s\n"
          ]
        }
      ],
      "source": [
        "%%time\n",
        "processed_ner_data = []\n",
        "failed_ner_data = []\n",
        "file_count = 0\n",
        "filtered_spans_count = 0\n",
        "\n",
        "for ehr_file in ehr_list:\n",
        "    with open(f\"chia_txt/{ehr_file}.txt\", 'r') as f:\n",
        "        con_file_name = f\"{ehr_file}.ann\"\n",
        "        ehr_df = df[df[\"source\"]==con_file_name]\n",
        "        ents = []\n",
        "        try:\n",
        "            ehr_lines = f.read()\n",
        "            doc = nlp(sanitize_txt_file(ehr_lines))\n",
        "            for index, row in ehr_df.iterrows():\n",
        "                ents.append(doc.char_span(row[\"hspan_start\"], row[\"hspan_end\"], label=row[\"head_ent_type\"]))\n",
        "                \n",
        "                \n",
        "            #first find where we span failed due to the index error\n",
        "            failed_spans_idx = [i for i,v in enumerate(ents) if v == None]\n",
        "            if failed_spans_idx:\n",
        "                failed_ner_data.append(ehr_df.iloc[failed_spans_idx, :])\n",
        "                \n",
        "            #filter none ents\n",
        "            ents = list(filter(None, ents))\n",
        "            filtered_spans = filter_spans(ents)\n",
        "            filtered_spans_count = filtered_spans_count + len(ents) - len(filtered_spans)\n",
        "            \n",
        "            doc.set_ents(filtered_spans)\n",
        "            processed_ner_data.append(doc)\n",
        "            file_count += 1\n",
        "        except Exception as e:\n",
        "            print(e)\n",
        "\n",
        "print(f\"succesfully processed {file_count} files..\")"
      ]
    },
    {
      "cell_type": "code",
      "execution_count": null,
      "id": "91b844e7-776b-4557-ae44-688087ebf500",
      "metadata": {
        "id": "91b844e7-776b-4557-ae44-688087ebf500",
        "outputId": "d07ca92e-0223-4514-92f8-ec35a5a019dc"
      },
      "outputs": [
        {
          "data": {
            "text/plain": [
              "4651"
            ]
          },
          "execution_count": 8,
          "metadata": {},
          "output_type": "execute_result"
        }
      ],
      "source": [
        "filtered_spans_count"
      ]
    },
    {
      "cell_type": "code",
      "execution_count": null,
      "id": "668b1159-77a0-4b2f-bfb6-d1747cfe699b",
      "metadata": {
        "id": "668b1159-77a0-4b2f-bfb6-d1747cfe699b",
        "outputId": "3474fe9f-619a-4ec6-e240-4ac88afed342"
      },
      "outputs": [
        {
          "name": "stdout",
          "output_type": "stream",
          "text": [
            "total missed ents.. 7155\n"
          ]
        }
      ],
      "source": [
        "training_data = [ent.label_ for doc in processed_ner_data for ent in doc.ents]\n",
        "total_training_ents = sum(list(df['head_ent_type'].value_counts()))\n",
        "total_label_ents = sum(list(pd.DataFrame(training_data).value_counts()))\n",
        "\n",
        "print(\"total missed ents..\", total_training_ents-total_label_ents)"
      ]
    },
    {
      "cell_type": "code",
      "execution_count": null,
      "id": "e4c6878a-8fa8-496f-88ad-75fb187be42f",
      "metadata": {
        "id": "e4c6878a-8fa8-496f-88ad-75fb187be42f",
        "outputId": "00593107-c627-4a84-a534-08637962b461"
      },
      "outputs": [
        {
          "name": "stdout",
          "output_type": "stream",
          "text": [
            "<class 'pandas.core.frame.DataFrame'>\n",
            "Int64Index: 2480 entries, 57 to 20734\n",
            "Data columns (total 16 columns):\n",
            " #   Column          Non-Null Count  Dtype  \n",
            "---  ------          --------------  -----  \n",
            " 0   rel_type        2480 non-null   object \n",
            " 1   head_ent        2480 non-null   object \n",
            " 2   tail_ent        2414 non-null   object \n",
            " 3   head_ent_span   2480 non-null   object \n",
            " 4   head_ent_txt    2480 non-null   object \n",
            " 5   tail_ent_span   2414 non-null   object \n",
            " 6   tail_ent_txt    2414 non-null   object \n",
            " 7   head_ent_type   2480 non-null   object \n",
            " 8   hspan_start     2480 non-null   float64\n",
            " 9   hspan_end       2480 non-null   float64\n",
            " 10  tail_ent_type   2414 non-null   object \n",
            " 11  tspan_start     2414 non-null   float64\n",
            " 12  tspan_end       2414 non-null   float64\n",
            " 13  source          2480 non-null   object \n",
            " 14  trem_idx_start  24 non-null     float64\n",
            " 15  trem_idx_end    24 non-null     float64\n",
            "dtypes: float64(6), object(10)\n",
            "memory usage: 329.4+ KB\n"
          ]
        }
      ],
      "source": [
        "failed_df = pd.concat(failed_ner_data)\n",
        "failed_df.info()"
      ]
    },
    {
      "cell_type": "code",
      "execution_count": null,
      "id": "9ad078f3-0dfd-45d0-8683-32e4cc90acc5",
      "metadata": {
        "id": "9ad078f3-0dfd-45d0-8683-32e4cc90acc5"
      },
      "outputs": [],
      "source": [
        "doc_bin = DocBin()\n",
        "for doc in processed_ner_data:\n",
        "    doc_bin.add(doc)\n",
        "doc_bin.to_disk(\"./content/drive/MyDrive/chia_clinical_trials/chia_rel_full.spacy\")"
      ]
    },
    {
      "cell_type": "code",
      "execution_count": null,
      "id": "e7bfd8fe-e247-45f4-ab54-496171b3b398",
      "metadata": {
        "id": "e7bfd8fe-e247-45f4-ab54-496171b3b398"
      },
      "outputs": [],
      "source": []
    }
  ],
  "metadata": {
    "kernelspec": {
      "display_name": "Python 3",
      "language": "python",
      "name": "python3"
    },
    "language_info": {
      "codemirror_mode": {
        "name": "ipython",
        "version": 3
      },
      "file_extension": ".py",
      "mimetype": "text/x-python",
      "name": "python",
      "nbconvert_exporter": "python",
      "pygments_lexer": "ipython3",
      "version": "3.7.0"
    },
    "colab": {
      "provenance": []
    }
  },
  "nbformat": 4,
  "nbformat_minor": 5
}